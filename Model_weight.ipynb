{
 "cells": [
  {
   "cell_type": "markdown",
   "metadata": {},
   "source": [
    "## Here I will take the key features from my data set and run them through weighted classificaton models, current models are Random Forest and Logit\n",
    "\n",
    "due to class imbalance and non-linear features my models are currently correctly identifying approx 10- 50% of the failed hard drives and mis attributing approx 5 - 25% of the working drives as broken. I will implement non-linear feature treatment and svm to address this in the coming days."
   ]
  },
  {
   "cell_type": "code",
   "execution_count": null,
   "metadata": {},
   "outputs": [],
   "source": []
  },
  {
   "cell_type": "code",
   "execution_count": null,
   "metadata": {},
   "outputs": [],
   "source": []
  },
  {
   "cell_type": "code",
   "execution_count": 2,
   "metadata": {},
   "outputs": [],
   "source": [
    "import pandas as pd\n",
    "import sklearn\n",
    "import seaborn as sns"
   ]
  },
  {
   "cell_type": "code",
   "execution_count": 3,
   "metadata": {},
   "outputs": [],
   "source": [
    "from sklearn.model_selection import train_test_split"
   ]
  },
  {
   "cell_type": "code",
   "execution_count": 4,
   "metadata": {},
   "outputs": [],
   "source": [
    "from sklearn import svm, ensemble, linear_model, neighbors, naive_bayes"
   ]
  },
  {
   "cell_type": "code",
   "execution_count": 5,
   "metadata": {},
   "outputs": [],
   "source": [
    "from sklearn.preprocessing import StandardScaler\n",
    "from sklearn.metrics import confusion_matrix\n",
    "\n",
    "from sklearn.metrics import precision_score, recall_score, precision_recall_curve,f1_score, fbeta_score"
   ]
  },
  {
   "cell_type": "code",
   "execution_count": 6,
   "metadata": {},
   "outputs": [],
   "source": [
    "from sklearn.naive_bayes import GaussianNB, MultinomialNB, BernoulliNB\n",
    "from sklearn.tree import DecisionTreeClassifier, DecisionTreeRegressor\n",
    "from sklearn.ensemble import (RandomForestClassifier, ExtraTreesClassifier, VotingClassifier, \n",
    "                              AdaBoostClassifier, BaggingRegressor)\n",
    "from sklearn import linear_model, svm, metrics, ensemble"
   ]
  },
  {
   "cell_type": "code",
   "execution_count": 7,
   "metadata": {},
   "outputs": [],
   "source": [
    "from sklearn import model_selection, preprocessing"
   ]
  },
  {
   "cell_type": "code",
   "execution_count": 62,
   "metadata": {},
   "outputs": [],
   "source": [
    "df = pd.read_pickle(\"/Users/robjohns/Data/Metis/HDfailure/Data/tot_pickle.pkl\")"
   ]
  },
  {
   "cell_type": "code",
   "execution_count": 63,
   "metadata": {},
   "outputs": [
    {
     "data": {
      "text/plain": [
       "0    31252\n",
       "1     1486\n",
       "Name: failure, dtype: int64"
      ]
     },
     "execution_count": 63,
     "metadata": {},
     "output_type": "execute_result"
    }
   ],
   "source": [
    "df.failure.value_counts()"
   ]
  },
  {
   "cell_type": "code",
   "execution_count": 64,
   "metadata": {},
   "outputs": [
    {
     "data": {
      "text/html": [
       "<div>\n",
       "<style scoped>\n",
       "    .dataframe tbody tr th:only-of-type {\n",
       "        vertical-align: middle;\n",
       "    }\n",
       "\n",
       "    .dataframe tbody tr th {\n",
       "        vertical-align: top;\n",
       "    }\n",
       "\n",
       "    .dataframe thead th {\n",
       "        text-align: right;\n",
       "    }\n",
       "</style>\n",
       "<table border=\"1\" class=\"dataframe\">\n",
       "  <thead>\n",
       "    <tr style=\"text-align: right;\">\n",
       "      <th></th>\n",
       "      <th>serial_number</th>\n",
       "      <th>failure</th>\n",
       "      <th>capacity_bytes</th>\n",
       "      <th>smart_1_normalized</th>\n",
       "      <th>smart_1_raw</th>\n",
       "      <th>smart_4_raw</th>\n",
       "      <th>smart_5_raw</th>\n",
       "      <th>smart_7_normalized</th>\n",
       "      <th>smart_9_normalized</th>\n",
       "      <th>smart_9_raw</th>\n",
       "      <th>smart_183_raw</th>\n",
       "      <th>smart_187_raw</th>\n",
       "      <th>smart_190_normalized</th>\n",
       "      <th>smart_193_raw</th>\n",
       "      <th>smart_197_raw</th>\n",
       "      <th>smart_198_raw</th>\n",
       "      <th>smart_199_raw</th>\n",
       "      <th>smart_240_raw</th>\n",
       "      <th>smart_242_raw</th>\n",
       "    </tr>\n",
       "  </thead>\n",
       "  <tbody>\n",
       "    <tr>\n",
       "      <th>0</th>\n",
       "      <td>S3000FZ5</td>\n",
       "      <td>0</td>\n",
       "      <td>484095230631936</td>\n",
       "      <td>13923.0</td>\n",
       "      <td>1.387917e+10</td>\n",
       "      <td>605.0</td>\n",
       "      <td>0.0</td>\n",
       "      <td>10076.0</td>\n",
       "      <td>11470.0</td>\n",
       "      <td>601973.0</td>\n",
       "      <td>0.0</td>\n",
       "      <td>0.0</td>\n",
       "      <td>8642.0</td>\n",
       "      <td>524663.0</td>\n",
       "      <td>0.0</td>\n",
       "      <td>0.0</td>\n",
       "      <td>0.0</td>\n",
       "      <td>1.675017e+16</td>\n",
       "      <td>1.888155e+12</td>\n",
       "    </tr>\n",
       "    <tr>\n",
       "      <th>1</th>\n",
       "      <td>S3000QAP</td>\n",
       "      <td>0</td>\n",
       "      <td>484095230631936</td>\n",
       "      <td>13942.0</td>\n",
       "      <td>1.549529e+10</td>\n",
       "      <td>783.0</td>\n",
       "      <td>0.0</td>\n",
       "      <td>10120.0</td>\n",
       "      <td>11455.0</td>\n",
       "      <td>616584.0</td>\n",
       "      <td>0.0</td>\n",
       "      <td>0.0</td>\n",
       "      <td>8613.0</td>\n",
       "      <td>2931154.0</td>\n",
       "      <td>0.0</td>\n",
       "      <td>0.0</td>\n",
       "      <td>0.0</td>\n",
       "      <td>6.014590e+05</td>\n",
       "      <td>1.278215e+13</td>\n",
       "    </tr>\n",
       "    <tr>\n",
       "      <th>2</th>\n",
       "      <td>S3002HH0</td>\n",
       "      <td>0</td>\n",
       "      <td>484095230631936</td>\n",
       "      <td>13860.0</td>\n",
       "      <td>1.321871e+10</td>\n",
       "      <td>1230.0</td>\n",
       "      <td>0.0</td>\n",
       "      <td>9608.0</td>\n",
       "      <td>11891.0</td>\n",
       "      <td>239349.0</td>\n",
       "      <td>0.0</td>\n",
       "      <td>0.0</td>\n",
       "      <td>9252.0</td>\n",
       "      <td>1250581.0</td>\n",
       "      <td>0.0</td>\n",
       "      <td>0.0</td>\n",
       "      <td>0.0</td>\n",
       "      <td>2.323410e+05</td>\n",
       "      <td>3.283178e+12</td>\n",
       "    </tr>\n",
       "    <tr>\n",
       "      <th>3</th>\n",
       "      <td>S30034E6</td>\n",
       "      <td>0</td>\n",
       "      <td>484095230631936</td>\n",
       "      <td>13937.0</td>\n",
       "      <td>1.477775e+10</td>\n",
       "      <td>605.0</td>\n",
       "      <td>0.0</td>\n",
       "      <td>10205.0</td>\n",
       "      <td>11573.0</td>\n",
       "      <td>512600.0</td>\n",
       "      <td>0.0</td>\n",
       "      <td>0.0</td>\n",
       "      <td>9125.0</td>\n",
       "      <td>441454.0</td>\n",
       "      <td>0.0</td>\n",
       "      <td>0.0</td>\n",
       "      <td>0.0</td>\n",
       "      <td>1.662708e+16</td>\n",
       "      <td>2.761480e+12</td>\n",
       "    </tr>\n",
       "    <tr>\n",
       "      <th>4</th>\n",
       "      <td>S3003GAB</td>\n",
       "      <td>0</td>\n",
       "      <td>484095230631936</td>\n",
       "      <td>13887.0</td>\n",
       "      <td>1.372514e+10</td>\n",
       "      <td>949.0</td>\n",
       "      <td>0.0</td>\n",
       "      <td>9858.0</td>\n",
       "      <td>11765.0</td>\n",
       "      <td>349710.0</td>\n",
       "      <td>0.0</td>\n",
       "      <td>0.0</td>\n",
       "      <td>9654.0</td>\n",
       "      <td>1314817.0</td>\n",
       "      <td>0.0</td>\n",
       "      <td>0.0</td>\n",
       "      <td>0.0</td>\n",
       "      <td>3.432260e+05</td>\n",
       "      <td>5.174248e+12</td>\n",
       "    </tr>\n",
       "  </tbody>\n",
       "</table>\n",
       "</div>"
      ],
      "text/plain": [
       "  serial_number  failure   capacity_bytes  smart_1_normalized   smart_1_raw  \\\n",
       "0      S3000FZ5        0  484095230631936             13923.0  1.387917e+10   \n",
       "1      S3000QAP        0  484095230631936             13942.0  1.549529e+10   \n",
       "2      S3002HH0        0  484095230631936             13860.0  1.321871e+10   \n",
       "3      S30034E6        0  484095230631936             13937.0  1.477775e+10   \n",
       "4      S3003GAB        0  484095230631936             13887.0  1.372514e+10   \n",
       "\n",
       "   smart_4_raw  smart_5_raw  smart_7_normalized  smart_9_normalized  \\\n",
       "0        605.0          0.0             10076.0             11470.0   \n",
       "1        783.0          0.0             10120.0             11455.0   \n",
       "2       1230.0          0.0              9608.0             11891.0   \n",
       "3        605.0          0.0             10205.0             11573.0   \n",
       "4        949.0          0.0              9858.0             11765.0   \n",
       "\n",
       "   smart_9_raw  smart_183_raw  smart_187_raw  smart_190_normalized  \\\n",
       "0     601973.0            0.0            0.0                8642.0   \n",
       "1     616584.0            0.0            0.0                8613.0   \n",
       "2     239349.0            0.0            0.0                9252.0   \n",
       "3     512600.0            0.0            0.0                9125.0   \n",
       "4     349710.0            0.0            0.0                9654.0   \n",
       "\n",
       "   smart_193_raw  smart_197_raw  smart_198_raw  smart_199_raw  smart_240_raw  \\\n",
       "0       524663.0            0.0            0.0            0.0   1.675017e+16   \n",
       "1      2931154.0            0.0            0.0            0.0   6.014590e+05   \n",
       "2      1250581.0            0.0            0.0            0.0   2.323410e+05   \n",
       "3       441454.0            0.0            0.0            0.0   1.662708e+16   \n",
       "4      1314817.0            0.0            0.0            0.0   3.432260e+05   \n",
       "\n",
       "   smart_242_raw  \n",
       "0   1.888155e+12  \n",
       "1   1.278215e+13  \n",
       "2   3.283178e+12  \n",
       "3   2.761480e+12  \n",
       "4   5.174248e+12  "
      ]
     },
     "execution_count": 64,
     "metadata": {},
     "output_type": "execute_result"
    }
   ],
   "source": [
    "df.head()"
   ]
  },
  {
   "cell_type": "code",
   "execution_count": 65,
   "metadata": {},
   "outputs": [
    {
     "data": {
      "text/plain": [
       "serial_number           32738\n",
       "failure                 32738\n",
       "capacity_bytes          32738\n",
       "smart_1_normalized      32738\n",
       "smart_1_raw             32738\n",
       "smart_4_raw             32738\n",
       "smart_5_raw             32738\n",
       "smart_7_normalized      32738\n",
       "smart_9_normalized      32738\n",
       "smart_9_raw             32738\n",
       "smart_183_raw           32738\n",
       "smart_187_raw           32738\n",
       "smart_190_normalized    32738\n",
       "smart_193_raw           32738\n",
       "smart_197_raw           32738\n",
       "smart_198_raw           32738\n",
       "smart_199_raw           32738\n",
       "smart_240_raw           32738\n",
       "smart_242_raw           32738\n",
       "dtype: int64"
      ]
     },
     "execution_count": 65,
     "metadata": {},
     "output_type": "execute_result"
    }
   ],
   "source": [
    "df.count()"
   ]
  },
  {
   "cell_type": "code",
   "execution_count": 50,
   "metadata": {},
   "outputs": [],
   "source": [
    "y,X= df['failure'],df.drop(['failure','serial_number','capacity_bytes'],axis=1)\n",
    "\n",
    "#x_train, x_test, y_train, y_test = model_selection.train_test_split(X, y, test_size=.2, stratify=y)"
   ]
  },
  {
   "cell_type": "code",
   "execution_count": 34,
   "metadata": {},
   "outputs": [],
   "source": [
    "x_train, x_testval, y_train, y_testval = model_selection.train_test_split(X, y, test_size=.5, stratify=y)\n",
    "\n",
    "x_val, x_test, y_val, y_test = model_selection.train_test_split(x_testval, y_testval, test_size=.5, stratify=y_testval)"
   ]
  },
  {
   "cell_type": "code",
   "execution_count": 51,
   "metadata": {},
   "outputs": [
    {
     "data": {
      "text/plain": [
       "(6548, 16)"
      ]
     },
     "execution_count": 51,
     "metadata": {},
     "output_type": "execute_result"
    }
   ],
   "source": [
    "x_test.shape"
   ]
  },
  {
   "cell_type": "code",
   "execution_count": 54,
   "metadata": {},
   "outputs": [],
   "source": [
    "#scaler = preprocessing.MinMaxScaler()\n",
    "scaler = StandardScaler()\n",
    "\n",
    "x_train = scaler.fit_transform(x_train)\n",
    "\n",
    "#x_val = scaler.transform(x_val)\n",
    "\n",
    "x_test = scaler.transform(x_test)"
   ]
  },
  {
   "cell_type": "code",
   "execution_count": 55,
   "metadata": {},
   "outputs": [
    {
     "name": "stdout",
     "output_type": "stream",
     "text": [
      "26190 8123 6548\n"
     ]
    }
   ],
   "source": [
    "print(len(x_train), len(x_val), len(x_test))"
   ]
  },
  {
   "cell_type": "code",
   "execution_count": 17,
   "metadata": {},
   "outputs": [],
   "source": [
    "#X_train_val, X_test, y_train_val, y_test = train_test_split(X, y, test_size=0.2,random_state=13)\n",
    "\n",
    "#X_train, X_val, y_train, y_val = train_test_split(X_train_val, y_train_val, test_size=.25, random_state=43)"
   ]
  },
  {
   "cell_type": "code",
   "execution_count": 18,
   "metadata": {},
   "outputs": [],
   "source": [
    "def print_metrics(model):\n",
    "  \n",
    "    y_pred = model.predict(x_val)\n",
    "\n",
    "    print(metrics.classification_report(y_val, y_pred))"
   ]
  },
  {
   "cell_type": "code",
   "execution_count": 19,
   "metadata": {},
   "outputs": [
    {
     "ename": "NameError",
     "evalue": "name 'class_weights' is not defined",
     "output_type": "error",
     "traceback": [
      "\u001b[0;31m---------------------------------------------------------------------------\u001b[0m",
      "\u001b[0;31mNameError\u001b[0m                                 Traceback (most recent call last)",
      "\u001b[0;32m<ipython-input-19-f8908ac4a353>\u001b[0m in \u001b[0;36m<module>\u001b[0;34m\u001b[0m\n\u001b[1;32m      1\u001b[0m \u001b[0;31m#logit=linear_model.LogisticRegression(C = 0.1,class_weight=\"balanced\", solver='lbfgs')\u001b[0m\u001b[0;34m\u001b[0m\u001b[0;34m\u001b[0m\u001b[0;34m\u001b[0m\u001b[0m\n\u001b[0;32m----> 2\u001b[0;31m \u001b[0mlogit\u001b[0m\u001b[0;34m=\u001b[0m\u001b[0mlinear_model\u001b[0m\u001b[0;34m.\u001b[0m\u001b[0mLogisticRegression\u001b[0m\u001b[0;34m(\u001b[0m\u001b[0mC\u001b[0m \u001b[0;34m=\u001b[0m \u001b[0;36m0.1\u001b[0m\u001b[0;34m,\u001b[0m\u001b[0mclass_weight\u001b[0m\u001b[0;34m=\u001b[0m\u001b[0mclass_weights\u001b[0m\u001b[0;34m,\u001b[0m \u001b[0msolver\u001b[0m\u001b[0;34m=\u001b[0m\u001b[0;34m'lbfgs'\u001b[0m\u001b[0;34m)\u001b[0m\u001b[0;34m\u001b[0m\u001b[0;34m\u001b[0m\u001b[0m\n\u001b[0m\u001b[1;32m      3\u001b[0m \u001b[0mlogit\u001b[0m\u001b[0;34m.\u001b[0m\u001b[0mfit\u001b[0m\u001b[0;34m(\u001b[0m\u001b[0mx_train\u001b[0m\u001b[0;34m,\u001b[0m \u001b[0my_train\u001b[0m\u001b[0;34m)\u001b[0m\u001b[0;34m\u001b[0m\u001b[0;34m\u001b[0m\u001b[0m\n\u001b[1;32m      4\u001b[0m \u001b[0;34m\u001b[0m\u001b[0m\n\u001b[1;32m      5\u001b[0m \u001b[0mprint_metrics\u001b[0m\u001b[0;34m(\u001b[0m\u001b[0mlogit\u001b[0m\u001b[0;34m)\u001b[0m\u001b[0;34m\u001b[0m\u001b[0;34m\u001b[0m\u001b[0m\n",
      "\u001b[0;31mNameError\u001b[0m: name 'class_weights' is not defined"
     ]
    }
   ],
   "source": [
    "#logit=linear_model.LogisticRegression(C = 0.1,class_weight=\"balanced\", solver='lbfgs')\n",
    "logit=linear_model.LogisticRegression(C = 0.1,class_weight=class_weights, solver='lbfgs')\n",
    "logit.fit(x_train, y_train)\n",
    "\n",
    "print_metrics(logit)"
   ]
  },
  {
   "cell_type": "code",
   "execution_count": 20,
   "metadata": {},
   "outputs": [],
   "source": [
    "class_weights = {\n",
    "      0: 1,\n",
    "      1: 20}"
   ]
  },
  {
   "cell_type": "code",
   "execution_count": 21,
   "metadata": {},
   "outputs": [
    {
     "name": "stdout",
     "output_type": "stream",
     "text": [
      "              precision    recall  f1-score   support\n",
      "\n",
      "           0       0.98      1.00      0.99      7813\n",
      "           1       0.83      0.50      0.62       371\n",
      "\n",
      "    accuracy                           0.97      8184\n",
      "   macro avg       0.90      0.75      0.80      8184\n",
      "weighted avg       0.97      0.97      0.97      8184\n",
      "\n"
     ]
    }
   ],
   "source": [
    "rf_weights  = {\n",
    "      0: 1,\n",
    "      1: 200}\n",
    "RandomForest_weights = RandomForestClassifier(class_weight=rf_weights,n_estimators=100)\n",
    "RandomForest_weights.fit(x_train, y_train)\n",
    "\n",
    "print_metrics(RandomForest_weights)"
   ]
  },
  {
   "cell_type": "code",
   "execution_count": 300,
   "metadata": {},
   "outputs": [],
   "source": [
    "logit_weights= {\n",
    "      0: 1,\n",
    "      1: 17}\n",
    "logit=linear_model.LogisticRegression(C = 0.9,class_weight=logit_weights, solver='lbfgs')\n",
    "#scaler = StandardScaler()"
   ]
  },
  {
   "cell_type": "code",
   "execution_count": 301,
   "metadata": {},
   "outputs": [],
   "source": [
    "#scaler.fit(X_train)\n",
    "#X_train_scale=scaler.transform(X_train)\n"
   ]
  },
  {
   "cell_type": "code",
   "execution_count": 302,
   "metadata": {},
   "outputs": [
    {
     "data": {
      "text/plain": [
       "LogisticRegression(C=0.9, class_weight={0: 1, 1: 17}, dual=False,\n",
       "                   fit_intercept=True, intercept_scaling=1, l1_ratio=None,\n",
       "                   max_iter=100, multi_class='warn', n_jobs=None, penalty='l2',\n",
       "                   random_state=None, solver='lbfgs', tol=0.0001, verbose=0,\n",
       "                   warm_start=False)"
      ]
     },
     "execution_count": 302,
     "metadata": {},
     "output_type": "execute_result"
    }
   ],
   "source": [
    "logit.fit(x_train,y_train)"
   ]
  },
  {
   "cell_type": "code",
   "execution_count": 303,
   "metadata": {},
   "outputs": [
    {
     "data": {
      "text/plain": [
       "0.8293418819536111"
      ]
     },
     "execution_count": 303,
     "metadata": {},
     "output_type": "execute_result"
    }
   ],
   "source": [
    "logit.score(x_train,y_train)"
   ]
  },
  {
   "cell_type": "code",
   "execution_count": 304,
   "metadata": {},
   "outputs": [
    {
     "data": {
      "text/plain": [
       "array([[2147,  352],\n",
       "       [  73,   80]])"
      ]
     },
     "execution_count": 304,
     "metadata": {},
     "output_type": "execute_result"
    }
   ],
   "source": [
    "confusion_matrix(y_test, logit.predict(x_test))"
   ]
  },
  {
   "cell_type": "code",
   "execution_count": null,
   "metadata": {},
   "outputs": [],
   "source": []
  },
  {
   "cell_type": "code",
   "execution_count": 56,
   "metadata": {},
   "outputs": [],
   "source": [
    "rf_weights  = {\n",
    "      0: 1,\n",
    "      1: 200}\n",
    "randomforest = RandomForestClassifier(class_weight=rf_weights,n_estimators=400)"
   ]
  },
  {
   "cell_type": "code",
   "execution_count": 57,
   "metadata": {},
   "outputs": [
    {
     "data": {
      "text/plain": [
       "RandomForestClassifier(bootstrap=True, class_weight={0: 1, 1: 200},\n",
       "                       criterion='gini', max_depth=None, max_features='auto',\n",
       "                       max_leaf_nodes=None, min_impurity_decrease=0.0,\n",
       "                       min_impurity_split=None, min_samples_leaf=1,\n",
       "                       min_samples_split=2, min_weight_fraction_leaf=0.0,\n",
       "                       n_estimators=400, n_jobs=None, oob_score=False,\n",
       "                       random_state=None, verbose=0, warm_start=False)"
      ]
     },
     "execution_count": 57,
     "metadata": {},
     "output_type": "execute_result"
    }
   ],
   "source": [
    "randomforest.fit(x_train,y_train)"
   ]
  },
  {
   "cell_type": "code",
   "execution_count": 58,
   "metadata": {},
   "outputs": [
    {
     "data": {
      "text/plain": [
       "1.0"
      ]
     },
     "execution_count": 58,
     "metadata": {},
     "output_type": "execute_result"
    }
   ],
   "source": [
    "randomforest.score(x_train,y_train)"
   ]
  },
  {
   "cell_type": "code",
   "execution_count": 59,
   "metadata": {},
   "outputs": [
    {
     "data": {
      "text/plain": [
       "array([[6251,    0],\n",
       "       [ 297,    0]])"
      ]
     },
     "execution_count": 59,
     "metadata": {},
     "output_type": "execute_result"
    }
   ],
   "source": [
    "rf_conf=confusion_matrix(y_test, randomforest.predict(x_test))\n",
    "rf_conf\n"
   ]
  },
  {
   "cell_type": "code",
   "execution_count": 60,
   "metadata": {},
   "outputs": [
    {
     "name": "stdout",
     "output_type": "stream",
     "text": [
      "RF Incorrectly thinks 0.0 % are going to fail\n"
     ]
    }
   ],
   "source": [
    "failperc=100*(rf_conf[0])[1]/((rf_conf[0])[0]+(rf_conf[0])[1])\n",
    "print('RF Incorrectly thinks', failperc,'% are going to fail')"
   ]
  },
  {
   "cell_type": "code",
   "execution_count": 61,
   "metadata": {},
   "outputs": [
    {
     "name": "stdout",
     "output_type": "stream",
     "text": [
      "RF Correctly thinks 0.0 % are going to fail\n"
     ]
    }
   ],
   "source": [
    "caught= 100*(rf_conf[1])[1]/((rf_conf[1])[0]+(rf_conf[1])[1])\n",
    "print('RF Correctly thinks', caught,'% are going to fail')"
   ]
  },
  {
   "cell_type": "code",
   "execution_count": null,
   "metadata": {},
   "outputs": [],
   "source": []
  }
 ],
 "metadata": {
  "kernelspec": {
   "display_name": "Python 3",
   "language": "python",
   "name": "python3"
  },
  "language_info": {
   "codemirror_mode": {
    "name": "ipython",
    "version": 3
   },
   "file_extension": ".py",
   "mimetype": "text/x-python",
   "name": "python",
   "nbconvert_exporter": "python",
   "pygments_lexer": "ipython3",
   "version": "3.7.3"
  }
 },
 "nbformat": 4,
 "nbformat_minor": 2
}
