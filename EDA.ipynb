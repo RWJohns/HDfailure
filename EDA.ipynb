{
 "cells": [
  {
   "cell_type": "code",
   "execution_count": 291,
   "metadata": {},
   "outputs": [],
   "source": [
    "import pandas as pd\n",
    "import seaborn as sns\n",
    "import numpy as np"
   ]
  },
  {
   "cell_type": "code",
   "execution_count": 307,
   "metadata": {},
   "outputs": [],
   "source": [
    "df_in = pd.read_csv(\"/Users/robjohns/Data/Metis/HDfailure/Data/model_2015_ST4000DM000.csv\")\n",
    "dfa_in = pd.read_csv(\"/Users/robjohns/Data/Metis/HDfailure/Data/model_2016_ST4000DM000.csv\")\n",
    "dfb_in = pd.read_csv(\"/Users/robjohns/Data/Metis/HDfailure/Data/model_2017_ST4000DM000.csv\")\n",
    "dfc_in = pd.read_csv(\"/Users/robjohns/Data/Metis/HDfailure/Data/model_2018_ST4000DM000.csv\")"
   ]
  },
  {
   "cell_type": "code",
   "execution_count": 308,
   "metadata": {},
   "outputs": [],
   "source": [
    "df=df_in\n",
    "dfa=dfa_in\n",
    "dfb=dfb_in\n",
    "dfc=dfc_in"
   ]
  },
  {
   "cell_type": "code",
   "execution_count": 309,
   "metadata": {},
   "outputs": [],
   "source": [
    "for column in df.columns:\n",
    "    if df[column].count() == 0:\n",
    "        del df[column]\n",
    "\n",
    "for column in dfa.columns:\n",
    "    if dfa[column].count() == 0:\n",
    "        del dfa[column]    \n",
    "        \n",
    "for column in dfb.columns:\n",
    "    if dfb[column].count() == 0:\n",
    "        del dfb[column]    \n",
    "        \n",
    "for column in dfc.columns:\n",
    "    if dfc[column].count() == 0:\n",
    "        del dfc[column]            "
   ]
  },
  {
   "cell_type": "code",
   "execution_count": 256,
   "metadata": {},
   "outputs": [],
   "source": [
    "df=df.groupby(['serial_number','failure'], as_index=False).apply(lambda x: x.iloc[:-2])\n",
    "dfa=dfa.groupby(['serial_number','failure'], as_index=False).apply(lambda x: x.iloc[:-2])\n",
    "dfb=dfb.groupby(['serial_number','failure'], as_index=False).apply(lambda x: x.iloc[:-2])\n",
    "dfc=dfc.groupby(['serial_number','failure'], as_index=False).apply(lambda x: x.iloc[:-2])"
   ]
  },
  {
   "cell_type": "code",
   "execution_count": 310,
   "metadata": {},
   "outputs": [
    {
     "data": {
      "text/html": [
       "<div>\n",
       "<style scoped>\n",
       "    .dataframe tbody tr th:only-of-type {\n",
       "        vertical-align: middle;\n",
       "    }\n",
       "\n",
       "    .dataframe tbody tr th {\n",
       "        vertical-align: top;\n",
       "    }\n",
       "\n",
       "    .dataframe thead th {\n",
       "        text-align: right;\n",
       "    }\n",
       "</style>\n",
       "<table border=\"1\" class=\"dataframe\">\n",
       "  <thead>\n",
       "    <tr style=\"text-align: right;\">\n",
       "      <th></th>\n",
       "      <th>serial_number</th>\n",
       "      <th>failure</th>\n",
       "      <th>capacity_bytes</th>\n",
       "      <th>smart_1_normalized</th>\n",
       "      <th>smart_1_raw</th>\n",
       "      <th>smart_3_normalized</th>\n",
       "      <th>smart_3_raw</th>\n",
       "      <th>smart_4_normalized</th>\n",
       "      <th>smart_4_raw</th>\n",
       "      <th>smart_5_normalized</th>\n",
       "      <th>...</th>\n",
       "      <th>smart_198_normalized</th>\n",
       "      <th>smart_198_raw</th>\n",
       "      <th>smart_199_normalized</th>\n",
       "      <th>smart_199_raw</th>\n",
       "      <th>smart_240_normalized</th>\n",
       "      <th>smart_240_raw</th>\n",
       "      <th>smart_241_normalized</th>\n",
       "      <th>smart_241_raw</th>\n",
       "      <th>smart_242_normalized</th>\n",
       "      <th>smart_242_raw</th>\n",
       "    </tr>\n",
       "  </thead>\n",
       "  <tbody>\n",
       "    <tr>\n",
       "      <th>0</th>\n",
       "      <td>S3000FZ5</td>\n",
       "      <td>0</td>\n",
       "      <td>484095230631936</td>\n",
       "      <td>13923.0</td>\n",
       "      <td>1.387917e+10</td>\n",
       "      <td>11495.0</td>\n",
       "      <td>0.0</td>\n",
       "      <td>12100.0</td>\n",
       "      <td>605.0</td>\n",
       "      <td>12100.0</td>\n",
       "      <td>...</td>\n",
       "      <td>12100.0</td>\n",
       "      <td>0.0</td>\n",
       "      <td>24200.0</td>\n",
       "      <td>0.0</td>\n",
       "      <td>12100.0</td>\n",
       "      <td>1.675017e+16</td>\n",
       "      <td>12100.0</td>\n",
       "      <td>1.332760e+12</td>\n",
       "      <td>12100.0</td>\n",
       "      <td>1.888155e+12</td>\n",
       "    </tr>\n",
       "    <tr>\n",
       "      <th>1</th>\n",
       "      <td>S3000QAP</td>\n",
       "      <td>0</td>\n",
       "      <td>484095230631936</td>\n",
       "      <td>13942.0</td>\n",
       "      <td>1.549529e+10</td>\n",
       "      <td>11263.0</td>\n",
       "      <td>0.0</td>\n",
       "      <td>12100.0</td>\n",
       "      <td>783.0</td>\n",
       "      <td>12100.0</td>\n",
       "      <td>...</td>\n",
       "      <td>12100.0</td>\n",
       "      <td>0.0</td>\n",
       "      <td>24200.0</td>\n",
       "      <td>0.0</td>\n",
       "      <td>12100.0</td>\n",
       "      <td>6.014590e+05</td>\n",
       "      <td>12100.0</td>\n",
       "      <td>1.888530e+12</td>\n",
       "      <td>12100.0</td>\n",
       "      <td>1.278215e+13</td>\n",
       "    </tr>\n",
       "    <tr>\n",
       "      <th>2</th>\n",
       "      <td>S3002HH0</td>\n",
       "      <td>0</td>\n",
       "      <td>484095230631936</td>\n",
       "      <td>13860.0</td>\n",
       "      <td>1.321871e+10</td>\n",
       "      <td>11132.0</td>\n",
       "      <td>0.0</td>\n",
       "      <td>12100.0</td>\n",
       "      <td>1230.0</td>\n",
       "      <td>12100.0</td>\n",
       "      <td>...</td>\n",
       "      <td>12100.0</td>\n",
       "      <td>0.0</td>\n",
       "      <td>24200.0</td>\n",
       "      <td>0.0</td>\n",
       "      <td>12100.0</td>\n",
       "      <td>2.323410e+05</td>\n",
       "      <td>12100.0</td>\n",
       "      <td>9.760988e+11</td>\n",
       "      <td>12100.0</td>\n",
       "      <td>3.283178e+12</td>\n",
       "    </tr>\n",
       "    <tr>\n",
       "      <th>3</th>\n",
       "      <td>S30034E6</td>\n",
       "      <td>0</td>\n",
       "      <td>484095230631936</td>\n",
       "      <td>13937.0</td>\n",
       "      <td>1.477775e+10</td>\n",
       "      <td>11495.0</td>\n",
       "      <td>0.0</td>\n",
       "      <td>12100.0</td>\n",
       "      <td>605.0</td>\n",
       "      <td>12100.0</td>\n",
       "      <td>...</td>\n",
       "      <td>12100.0</td>\n",
       "      <td>0.0</td>\n",
       "      <td>24200.0</td>\n",
       "      <td>0.0</td>\n",
       "      <td>12100.0</td>\n",
       "      <td>1.662708e+16</td>\n",
       "      <td>12100.0</td>\n",
       "      <td>1.352685e+12</td>\n",
       "      <td>12100.0</td>\n",
       "      <td>2.761480e+12</td>\n",
       "    </tr>\n",
       "    <tr>\n",
       "      <th>4</th>\n",
       "      <td>S3003GAB</td>\n",
       "      <td>0</td>\n",
       "      <td>484095230631936</td>\n",
       "      <td>13887.0</td>\n",
       "      <td>1.372514e+10</td>\n",
       "      <td>11157.0</td>\n",
       "      <td>0.0</td>\n",
       "      <td>12100.0</td>\n",
       "      <td>949.0</td>\n",
       "      <td>12100.0</td>\n",
       "      <td>...</td>\n",
       "      <td>12100.0</td>\n",
       "      <td>0.0</td>\n",
       "      <td>24200.0</td>\n",
       "      <td>0.0</td>\n",
       "      <td>12100.0</td>\n",
       "      <td>3.432260e+05</td>\n",
       "      <td>12100.0</td>\n",
       "      <td>1.166102e+12</td>\n",
       "      <td>12100.0</td>\n",
       "      <td>5.174248e+12</td>\n",
       "    </tr>\n",
       "  </tbody>\n",
       "</table>\n",
       "<p>5 rows × 51 columns</p>\n",
       "</div>"
      ],
      "text/plain": [
       "  serial_number  failure   capacity_bytes  smart_1_normalized   smart_1_raw  \\\n",
       "0      S3000FZ5        0  484095230631936             13923.0  1.387917e+10   \n",
       "1      S3000QAP        0  484095230631936             13942.0  1.549529e+10   \n",
       "2      S3002HH0        0  484095230631936             13860.0  1.321871e+10   \n",
       "3      S30034E6        0  484095230631936             13937.0  1.477775e+10   \n",
       "4      S3003GAB        0  484095230631936             13887.0  1.372514e+10   \n",
       "\n",
       "   smart_3_normalized  smart_3_raw  smart_4_normalized  smart_4_raw  \\\n",
       "0             11495.0          0.0             12100.0        605.0   \n",
       "1             11263.0          0.0             12100.0        783.0   \n",
       "2             11132.0          0.0             12100.0       1230.0   \n",
       "3             11495.0          0.0             12100.0        605.0   \n",
       "4             11157.0          0.0             12100.0        949.0   \n",
       "\n",
       "   smart_5_normalized  ...  smart_198_normalized  smart_198_raw  \\\n",
       "0             12100.0  ...               12100.0            0.0   \n",
       "1             12100.0  ...               12100.0            0.0   \n",
       "2             12100.0  ...               12100.0            0.0   \n",
       "3             12100.0  ...               12100.0            0.0   \n",
       "4             12100.0  ...               12100.0            0.0   \n",
       "\n",
       "   smart_199_normalized  smart_199_raw  smart_240_normalized  smart_240_raw  \\\n",
       "0               24200.0            0.0               12100.0   1.675017e+16   \n",
       "1               24200.0            0.0               12100.0   6.014590e+05   \n",
       "2               24200.0            0.0               12100.0   2.323410e+05   \n",
       "3               24200.0            0.0               12100.0   1.662708e+16   \n",
       "4               24200.0            0.0               12100.0   3.432260e+05   \n",
       "\n",
       "   smart_241_normalized  smart_241_raw  smart_242_normalized  smart_242_raw  \n",
       "0               12100.0   1.332760e+12               12100.0   1.888155e+12  \n",
       "1               12100.0   1.888530e+12               12100.0   1.278215e+13  \n",
       "2               12100.0   9.760988e+11               12100.0   3.283178e+12  \n",
       "3               12100.0   1.352685e+12               12100.0   2.761480e+12  \n",
       "4               12100.0   1.166102e+12               12100.0   5.174248e+12  \n",
       "\n",
       "[5 rows x 51 columns]"
      ]
     },
     "execution_count": 310,
     "metadata": {},
     "output_type": "execute_result"
    }
   ],
   "source": [
    "df=df.groupby(['serial_number','failure']).sum().reset_index()\n",
    "dfa=dfa.groupby(['serial_number','failure']).sum().reset_index()\n",
    "dfb=dfb.groupby(['serial_number','failure']).sum().reset_index()\n",
    "dfc=dfc.groupby(['serial_number','failure']).sum().reset_index()\n",
    "df.head()"
   ]
  },
  {
   "cell_type": "code",
   "execution_count": 296,
   "metadata": {},
   "outputs": [
    {
     "name": "stdout",
     "output_type": "stream",
     "text": [
      "0.012204179426355443      smart_1_raw\n",
      "Deleted smart_3_normalized\n",
      "Deleted smart_3_raw\n",
      "Deleted smart_4_normalized\n",
      "0.029877648684175525      smart_4_raw\n",
      "Deleted smart_5_normalized\n",
      "0.05925939631679626      smart_5_raw\n",
      "0.015181527386700222      smart_7_normalized\n",
      "Deleted smart_7_raw\n",
      "-0.024362504044086776      smart_9_normalized\n",
      "0.08818253632049745      smart_9_raw\n",
      "Deleted smart_10_normalized\n",
      "Deleted smart_10_raw\n",
      "Deleted smart_12_normalized\n",
      "Deleted smart_12_raw\n",
      "Deleted smart_183_normalized\n",
      "0.024797311574009856      smart_183_raw\n",
      "Deleted smart_184_normalized\n",
      "Deleted smart_184_raw\n",
      "Deleted smart_187_normalized\n",
      "0.16380161398445336      smart_187_raw\n",
      "Deleted smart_188_normalized\n",
      "Deleted smart_188_raw\n",
      "Deleted smart_189_normalized\n",
      "Deleted smart_189_raw\n",
      "0.010310870479532577      smart_190_normalized\n",
      "Deleted smart_190_raw\n",
      "Deleted smart_191_normalized\n",
      "Deleted smart_191_raw\n",
      "Deleted smart_192_normalized\n",
      "Deleted smart_192_raw\n",
      "Deleted smart_193_normalized\n",
      "0.026252376983881377      smart_193_raw\n",
      "Deleted smart_194_normalized\n",
      "Deleted smart_194_raw\n",
      "Deleted smart_197_normalized\n",
      "0.0590506325386402      smart_197_raw\n",
      "Deleted smart_198_normalized\n",
      "0.0590506325386402      smart_198_raw\n",
      "Deleted smart_199_normalized\n",
      "0.05381783015172519      smart_199_raw\n",
      "Deleted smart_240_normalized\n",
      "0.013067834477936465      smart_240_raw\n",
      "Deleted smart_241_normalized\n",
      "Deleted smart_241_raw\n",
      "Deleted smart_242_normalized\n",
      "0.09608951427032314      smart_242_raw\n"
     ]
    }
   ],
   "source": [
    "columns = list(df) \n",
    "for feature in columns[4:]: \n",
    "\n",
    "    yo=dfa['failure'].corr(dfa[feature])\n",
    "        #df[df[feature].corr()['failure']\n",
    "    if np.isnan(yo):\n",
    "        print ('Deleted', feature)\n",
    "        del df[feature]\n",
    "        del dfa[feature]\n",
    "        del dfb[feature]\n",
    "        del dfc[feature]\n",
    "    elif abs(yo)<=0.01:\n",
    "        print ('Deleted', feature)\n",
    "        del df[feature]\n",
    "        del dfa[feature]\n",
    "        del dfb[feature]\n",
    "        del dfc[feature]\n",
    "    else:\n",
    "        print(yo, \"    \", feature)\n",
    "          \n"
   ]
  },
  {
   "cell_type": "code",
   "execution_count": 311,
   "metadata": {},
   "outputs": [
    {
     "data": {
      "text/plain": [
       "serial_number           10353\n",
       "failure                 10353\n",
       "capacity_bytes          10353\n",
       "smart_1_normalized      10353\n",
       "smart_1_raw             10353\n",
       "smart_3_normalized      10353\n",
       "smart_3_raw             10353\n",
       "smart_4_normalized      10353\n",
       "smart_4_raw             10353\n",
       "smart_5_normalized      10353\n",
       "smart_5_raw             10353\n",
       "smart_7_normalized      10353\n",
       "smart_7_raw             10353\n",
       "smart_9_normalized      10353\n",
       "smart_9_raw             10353\n",
       "smart_10_normalized     10353\n",
       "smart_10_raw            10353\n",
       "smart_12_normalized     10353\n",
       "smart_12_raw            10353\n",
       "smart_183_normalized    10353\n",
       "smart_183_raw           10353\n",
       "smart_184_normalized    10353\n",
       "smart_184_raw           10353\n",
       "smart_187_normalized    10353\n",
       "smart_187_raw           10353\n",
       "smart_188_normalized    10353\n",
       "smart_188_raw           10353\n",
       "smart_189_normalized    10353\n",
       "smart_189_raw           10353\n",
       "smart_190_normalized    10353\n",
       "smart_190_raw           10353\n",
       "smart_191_normalized    10353\n",
       "smart_191_raw           10353\n",
       "smart_192_normalized    10353\n",
       "smart_192_raw           10353\n",
       "smart_193_normalized    10353\n",
       "smart_193_raw           10353\n",
       "smart_194_normalized    10353\n",
       "smart_194_raw           10353\n",
       "smart_197_normalized    10353\n",
       "smart_197_raw           10353\n",
       "smart_198_normalized    10353\n",
       "smart_198_raw           10353\n",
       "smart_199_normalized    10353\n",
       "smart_199_raw           10353\n",
       "smart_240_normalized    10353\n",
       "smart_240_raw           10353\n",
       "smart_241_normalized    10353\n",
       "smart_241_raw           10353\n",
       "smart_242_normalized    10353\n",
       "smart_242_raw           10353\n",
       "dtype: int64"
      ]
     },
     "execution_count": 311,
     "metadata": {},
     "output_type": "execute_result"
    }
   ],
   "source": [
    "df.count()"
   ]
  },
  {
   "cell_type": "code",
   "execution_count": 298,
   "metadata": {},
   "outputs": [
    {
     "data": {
      "text/plain": [
       "serial_number           10606\n",
       "failure                 10606\n",
       "capacity_bytes          10606\n",
       "smart_1_normalized      10606\n",
       "smart_1_raw             10606\n",
       "smart_4_raw             10606\n",
       "smart_5_raw             10606\n",
       "smart_7_normalized      10606\n",
       "smart_9_normalized      10606\n",
       "smart_9_raw             10606\n",
       "smart_183_raw           10606\n",
       "smart_187_raw           10606\n",
       "smart_190_normalized    10606\n",
       "smart_193_raw           10606\n",
       "smart_197_raw           10606\n",
       "smart_198_raw           10606\n",
       "smart_199_raw           10606\n",
       "smart_240_raw           10606\n",
       "smart_242_raw           10606\n",
       "dtype: int64"
      ]
     },
     "execution_count": 298,
     "metadata": {},
     "output_type": "execute_result"
    }
   ],
   "source": [
    "dfa.count()"
   ]
  },
  {
   "cell_type": "code",
   "execution_count": 299,
   "metadata": {},
   "outputs": [
    {
     "data": {
      "text/plain": [
       "serial_number           3885\n",
       "failure                 3885\n",
       "capacity_bytes          3885\n",
       "smart_1_normalized      3885\n",
       "smart_1_raw             3885\n",
       "smart_4_raw             3885\n",
       "smart_5_raw             3885\n",
       "smart_7_normalized      3885\n",
       "smart_9_normalized      3885\n",
       "smart_9_raw             3885\n",
       "smart_183_raw           3885\n",
       "smart_187_raw           3885\n",
       "smart_190_normalized    3885\n",
       "smart_193_raw           3885\n",
       "smart_197_raw           3885\n",
       "smart_198_raw           3885\n",
       "smart_199_raw           3885\n",
       "smart_240_raw           3885\n",
       "smart_242_raw           3885\n",
       "dtype: int64"
      ]
     },
     "execution_count": 299,
     "metadata": {},
     "output_type": "execute_result"
    }
   ],
   "source": [
    "dfb.count()"
   ]
  },
  {
   "cell_type": "code",
   "execution_count": 300,
   "metadata": {},
   "outputs": [
    {
     "data": {
      "text/plain": [
       "serial_number           7894\n",
       "failure                 7894\n",
       "capacity_bytes          7894\n",
       "smart_1_normalized      7894\n",
       "smart_1_raw             7894\n",
       "smart_4_raw             7894\n",
       "smart_5_raw             7894\n",
       "smart_7_normalized      7894\n",
       "smart_9_normalized      7894\n",
       "smart_9_raw             7894\n",
       "smart_183_raw           7894\n",
       "smart_187_raw           7894\n",
       "smart_190_normalized    7894\n",
       "smart_193_raw           7894\n",
       "smart_197_raw           7894\n",
       "smart_198_raw           7894\n",
       "smart_199_raw           7894\n",
       "smart_240_raw           7894\n",
       "smart_242_raw           7894\n",
       "dtype: int64"
      ]
     },
     "execution_count": 300,
     "metadata": {},
     "output_type": "execute_result"
    }
   ],
   "source": [
    "dfc.count()"
   ]
  },
  {
   "cell_type": "code",
   "execution_count": 312,
   "metadata": {},
   "outputs": [],
   "source": [
    "df_tot= pd.concat([df, dfa], ignore_index=True)\n",
    "df_tot= pd.concat([df_tot, dfb], ignore_index=True)\n",
    "df_tot= pd.concat([df_tot, dfc], ignore_index=True)"
   ]
  },
  {
   "cell_type": "code",
   "execution_count": 301,
   "metadata": {},
   "outputs": [],
   "source": [
    "df_past=pd.concat([df, dfa], ignore_index=True)\n",
    "df_past=pd.concat([df_past, dfb], ignore_index=True)\n",
    "\n",
    "df_2018=dfc"
   ]
  },
  {
   "cell_type": "code",
   "execution_count": 302,
   "metadata": {},
   "outputs": [
    {
     "data": {
      "text/plain": [
       "serial_number           24844\n",
       "failure                 24844\n",
       "capacity_bytes          24844\n",
       "smart_1_normalized      24844\n",
       "smart_1_raw             24844\n",
       "smart_4_raw             24844\n",
       "smart_5_raw             24844\n",
       "smart_7_normalized      24844\n",
       "smart_9_normalized      24844\n",
       "smart_9_raw             24844\n",
       "smart_183_raw           24844\n",
       "smart_187_raw           24844\n",
       "smart_190_normalized    24844\n",
       "smart_193_raw           24844\n",
       "smart_197_raw           24844\n",
       "smart_198_raw           24844\n",
       "smart_199_raw           24844\n",
       "smart_240_raw           24844\n",
       "smart_242_raw           24844\n",
       "dtype: int64"
      ]
     },
     "execution_count": 302,
     "metadata": {},
     "output_type": "execute_result"
    }
   ],
   "source": [
    "df_past.count()"
   ]
  },
  {
   "cell_type": "code",
   "execution_count": 148,
   "metadata": {},
   "outputs": [
    {
     "data": {
      "text/plain": [
       "32738"
      ]
     },
     "execution_count": 148,
     "metadata": {},
     "output_type": "execute_result"
    }
   ],
   "source": [
    "10353+10606+3885+7894"
   ]
  },
  {
   "cell_type": "code",
   "execution_count": null,
   "metadata": {},
   "outputs": [],
   "source": [
    "df3=df.groupby(['serial_number','failure']).mean().reset_index()\n",
    "#df3.sort_values(by=['serial_number'])\n",
    "df3.head()"
   ]
  },
  {
   "cell_type": "code",
   "execution_count": null,
   "metadata": {},
   "outputs": [],
   "source": [
    "mask = ((df['failure'] == 1))\n",
    "df2m=df[mask]\n",
    "df2m.serial_number.value_counts()\n",
    "#df2m.size\n",
    "#df2m.head()"
   ]
  },
  {
   "cell_type": "code",
   "execution_count": null,
   "metadata": {},
   "outputs": [],
   "source": [
    "mask = ((df['serial_number'] == \"S3006YCG\"))\n",
    "#        & (df[\"STATION\"] == \"59 ST\"))\n",
    "df2m=df[mask]"
   ]
  },
  {
   "cell_type": "code",
   "execution_count": null,
   "metadata": {},
   "outputs": [],
   "source": [
    "df2m"
   ]
  },
  {
   "cell_type": "code",
   "execution_count": 57,
   "metadata": {},
   "outputs": [],
   "source": [
    "df2=df"
   ]
  },
  {
   "cell_type": "code",
   "execution_count": null,
   "metadata": {},
   "outputs": [],
   "source": [
    "df2=df.groupby(['serial_number','failure']).sum().reset_index()\n",
    "#df3.sort_values(by=['serial_number'])\n"
   ]
  },
  {
   "cell_type": "code",
   "execution_count": 313,
   "metadata": {},
   "outputs": [],
   "source": [
    "df_tot.dropna(inplace=True)"
   ]
  },
  {
   "cell_type": "code",
   "execution_count": null,
   "metadata": {},
   "outputs": [],
   "source": [
    "df_pair=df2"
   ]
  },
  {
   "cell_type": "code",
   "execution_count": 314,
   "metadata": {},
   "outputs": [],
   "source": [
    "df_tot.to_pickle(\"/Users/robjohns/Data/Metis/HDfailure/Data/neatures_pickle.pkl\")"
   ]
  },
  {
   "cell_type": "code",
   "execution_count": 303,
   "metadata": {},
   "outputs": [],
   "source": [
    "df_past.to_pickle(\"/Users/robjohns/Data/Metis/HDfailure/Data/past_pickle.pkl\")"
   ]
  },
  {
   "cell_type": "code",
   "execution_count": 304,
   "metadata": {},
   "outputs": [],
   "source": [
    "df_2018.to_pickle(\"/Users/robjohns/Data/Metis/HDfailure/Data/2018_pickle.pkl\")"
   ]
  },
  {
   "cell_type": "code",
   "execution_count": null,
   "metadata": {},
   "outputs": [],
   "source": [
    "use_df = pd.read_pickle(\"2016_pickle.pkl\")"
   ]
  },
  {
   "cell_type": "code",
   "execution_count": null,
   "metadata": {},
   "outputs": [],
   "source": [
    "del df_pair['date']\n",
    "del df_pair['serial_number']\n",
    "del df_pair['model']\n",
    "del df_pair['capacity_bytes']"
   ]
  },
  {
   "cell_type": "code",
   "execution_count": null,
   "metadata": {},
   "outputs": [],
   "source": [
    "df_pair.dropna(inplace=True)\n",
    "df_pair.count()"
   ]
  },
  {
   "cell_type": "code",
   "execution_count": null,
   "metadata": {},
   "outputs": [],
   "source": [
    "use_df.head(20)"
   ]
  },
  {
   "cell_type": "code",
   "execution_count": null,
   "metadata": {},
   "outputs": [],
   "source": [
    "pp = sns.pairplot(data=df,\n",
    "                  y_vars=['failure'],\n",
    "                  x_vars=['smart_1_normalized','smart_3_normalized','smart_4_normalized','smart_5_normalized'])"
   ]
  },
  {
   "cell_type": "code",
   "execution_count": null,
   "metadata": {},
   "outputs": [],
   "source": [
    "pp = sns.pairplot(data=df,\n",
    "                  y_vars=['failure'],\n",
    "                  x_vars=['smart_7_normalized','smart_9_normalized','smart_10_normalized','smart_12_normalized'])"
   ]
  },
  {
   "cell_type": "code",
   "execution_count": null,
   "metadata": {},
   "outputs": [],
   "source": [
    "pp = sns.pairplot(data=df,\n",
    "                  y_vars=['failure'],\n",
    "                  x_vars=['smart_183_normalized','smart_184_normalized','smart_187_normalized','smart_188_normalized'])"
   ]
  },
  {
   "cell_type": "code",
   "execution_count": null,
   "metadata": {
    "scrolled": true
   },
   "outputs": [],
   "source": [
    "pp = sns.pairplot(data=df,\n",
    "                  y_vars=['failure'],\n",
    "                  x_vars=['smart_189_normalized','smart_190_normalized','smart_191_normalized','smart_192_normalized'])"
   ]
  },
  {
   "cell_type": "code",
   "execution_count": null,
   "metadata": {},
   "outputs": [],
   "source": [
    "pp = sns.pairplot(data=df,\n",
    "                  y_vars=['failure'],\n",
    "                  x_vars=['smart_193_normalized','smart_194_normalized','smart_197_normalized','smart_198_normalized'])"
   ]
  },
  {
   "cell_type": "code",
   "execution_count": null,
   "metadata": {},
   "outputs": [],
   "source": [
    "pp = sns.pairplot(data=df,\n",
    "                  y_vars=['failure'],\n",
    "                  x_vars=['smart_199_normalized','smart_240_normalized','smart_241_normalized','smart_242_normalized'])"
   ]
  },
  {
   "cell_type": "code",
   "execution_count": null,
   "metadata": {},
   "outputs": [],
   "source": [
    "sns.stripplot(x=df['failure'], y=df['smart_3_raw']);"
   ]
  },
  {
   "cell_type": "code",
   "execution_count": null,
   "metadata": {},
   "outputs": [],
   "source": [
    "sns.stripplot(x=df['failure'], y=df['smart_197_raw']);"
   ]
  },
  {
   "cell_type": "code",
   "execution_count": null,
   "metadata": {},
   "outputs": [],
   "source": []
  },
  {
   "cell_type": "code",
   "execution_count": null,
   "metadata": {},
   "outputs": [],
   "source": [
    "g=sns.regplot(x=df['failure'], y=df['smart_4_normalized']);"
   ]
  },
  {
   "cell_type": "code",
   "execution_count": null,
   "metadata": {},
   "outputs": [],
   "source": [
    "g=sns.regplot(x=df['failure'], y=df['smart_5_normalized']);"
   ]
  },
  {
   "cell_type": "code",
   "execution_count": null,
   "metadata": {},
   "outputs": [],
   "source": [
    "g=sns.regplot(x=df['failure'], y=df['smart_12_normalized']);"
   ]
  },
  {
   "cell_type": "code",
   "execution_count": null,
   "metadata": {},
   "outputs": [],
   "source": [
    "g=sns.regplot(x=df['failure'], y=df['smart_184_normalized']);"
   ]
  },
  {
   "cell_type": "code",
   "execution_count": null,
   "metadata": {},
   "outputs": [],
   "source": []
  },
  {
   "cell_type": "code",
   "execution_count": null,
   "metadata": {},
   "outputs": [],
   "source": []
  },
  {
   "cell_type": "code",
   "execution_count": null,
   "metadata": {},
   "outputs": [],
   "source": []
  },
  {
   "cell_type": "code",
   "execution_count": null,
   "metadata": {},
   "outputs": [],
   "source": [
    "g=sns.regplot(x=df['failure'], y=df['smart_242_raw']);"
   ]
  },
  {
   "cell_type": "code",
   "execution_count": null,
   "metadata": {},
   "outputs": [],
   "source": [
    "b=sns.regplot(x=df['failure'], y=df['smart_199_raw']);\n"
   ]
  },
  {
   "cell_type": "code",
   "execution_count": null,
   "metadata": {},
   "outputs": [],
   "source": []
  },
  {
   "cell_type": "code",
   "execution_count": null,
   "metadata": {},
   "outputs": [],
   "source": []
  },
  {
   "cell_type": "code",
   "execution_count": null,
   "metadata": {},
   "outputs": [],
   "source": [
    "sns.stripplot(x=df['failure'], y=df['smart_183_normalized']);"
   ]
  },
  {
   "cell_type": "code",
   "execution_count": null,
   "metadata": {},
   "outputs": [],
   "source": [
    "sns.regplot(x=df['smart_198_raw'], y=df['smart_197_raw'])"
   ]
  },
  {
   "cell_type": "code",
   "execution_count": null,
   "metadata": {},
   "outputs": [],
   "source": [
    "sns.pairplot(df_pair)"
   ]
  },
  {
   "cell_type": "code",
   "execution_count": null,
   "metadata": {},
   "outputs": [],
   "source": []
  },
  {
   "cell_type": "code",
   "execution_count": null,
   "metadata": {},
   "outputs": [],
   "source": [
    "df.describe()"
   ]
  },
  {
   "cell_type": "code",
   "execution_count": null,
   "metadata": {},
   "outputs": [],
   "source": [
    "df.count()"
   ]
  },
  {
   "cell_type": "code",
   "execution_count": null,
   "metadata": {},
   "outputs": [],
   "source": [
    "df = df.smart_2_normalized.drop"
   ]
  },
  {
   "cell_type": "code",
   "execution_count": null,
   "metadata": {},
   "outputs": [],
   "source": [
    "df.head()"
   ]
  },
  {
   "cell_type": "code",
   "execution_count": null,
   "metadata": {},
   "outputs": [],
   "source": []
  }
 ],
 "metadata": {
  "kernelspec": {
   "display_name": "Python 3",
   "language": "python",
   "name": "python3"
  },
  "language_info": {
   "codemirror_mode": {
    "name": "ipython",
    "version": 3
   },
   "file_extension": ".py",
   "mimetype": "text/x-python",
   "name": "python",
   "nbconvert_exporter": "python",
   "pygments_lexer": "ipython3",
   "version": "3.7.3"
  }
 },
 "nbformat": 4,
 "nbformat_minor": 2
}
