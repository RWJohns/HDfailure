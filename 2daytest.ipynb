{
 "cells": [
  {
   "cell_type": "markdown",
   "metadata": {},
   "source": [
    "## Here I will take the key features from my data set and run them through weighted classificaton models, current models are Random Forest and Logit\n",
    "\n",
    "due to class imbalance and non-linear features my models are currently correctly identifying approx 10- 50% of the failed hard drives and mis attributing approx 5 - 25% of the working drives as broken. I will implement non-linear feature treatment and svm to address this in the coming days."
   ]
  },
  {
   "cell_type": "code",
   "execution_count": null,
   "metadata": {},
   "outputs": [],
   "source": []
  },
  {
   "cell_type": "code",
   "execution_count": null,
   "metadata": {},
   "outputs": [],
   "source": []
  },
  {
   "cell_type": "code",
   "execution_count": 1,
   "metadata": {},
   "outputs": [],
   "source": [
    "import pandas as pd\n",
    "import sklearn\n",
    "import seaborn as sns"
   ]
  },
  {
   "cell_type": "code",
   "execution_count": 2,
   "metadata": {},
   "outputs": [],
   "source": [
    "from sklearn.model_selection import train_test_split"
   ]
  },
  {
   "cell_type": "code",
   "execution_count": 3,
   "metadata": {},
   "outputs": [],
   "source": [
    "from sklearn import svm, ensemble, linear_model, neighbors, naive_bayes"
   ]
  },
  {
   "cell_type": "code",
   "execution_count": 4,
   "metadata": {},
   "outputs": [],
   "source": [
    "from sklearn.preprocessing import StandardScaler\n",
    "from sklearn.metrics import confusion_matrix\n",
    "\n",
    "from sklearn.metrics import precision_score, recall_score, precision_recall_curve,f1_score, fbeta_score"
   ]
  },
  {
   "cell_type": "code",
   "execution_count": 5,
   "metadata": {},
   "outputs": [],
   "source": [
    "from sklearn.naive_bayes import GaussianNB, MultinomialNB, BernoulliNB\n",
    "from sklearn.tree import DecisionTreeClassifier, DecisionTreeRegressor\n",
    "from sklearn.ensemble import (RandomForestClassifier, ExtraTreesClassifier, VotingClassifier, \n",
    "                              AdaBoostClassifier, BaggingRegressor)\n",
    "from sklearn import linear_model, svm, metrics, ensemble"
   ]
  },
  {
   "cell_type": "code",
   "execution_count": 6,
   "metadata": {},
   "outputs": [],
   "source": [
    "from sklearn import model_selection, preprocessing"
   ]
  },
  {
   "cell_type": "code",
   "execution_count": 7,
   "metadata": {},
   "outputs": [],
   "source": [
    "df = pd.read_pickle(\"/Users/robjohns/Data/Metis/HDfailure/Data/tot_2days_pickle.pkl\")\n"
   ]
  },
  {
   "cell_type": "code",
   "execution_count": 8,
   "metadata": {},
   "outputs": [
    {
     "data": {
      "text/plain": [
       "0    31023\n",
       "1     1471\n",
       "Name: failure, dtype: int64"
      ]
     },
     "execution_count": 8,
     "metadata": {},
     "output_type": "execute_result"
    }
   ],
   "source": [
    "df.failure.value_counts()"
   ]
  },
  {
   "cell_type": "code",
   "execution_count": 9,
   "metadata": {},
   "outputs": [
    {
     "data": {
      "text/html": [
       "<div>\n",
       "<style scoped>\n",
       "    .dataframe tbody tr th:only-of-type {\n",
       "        vertical-align: middle;\n",
       "    }\n",
       "\n",
       "    .dataframe tbody tr th {\n",
       "        vertical-align: top;\n",
       "    }\n",
       "\n",
       "    .dataframe thead th {\n",
       "        text-align: right;\n",
       "    }\n",
       "</style>\n",
       "<table border=\"1\" class=\"dataframe\">\n",
       "  <thead>\n",
       "    <tr style=\"text-align: right;\">\n",
       "      <th></th>\n",
       "      <th>serial_number</th>\n",
       "      <th>failure</th>\n",
       "      <th>capacity_bytes</th>\n",
       "      <th>smart_1_normalized</th>\n",
       "      <th>smart_4_raw</th>\n",
       "      <th>smart_5_raw</th>\n",
       "      <th>smart_7_raw</th>\n",
       "      <th>smart_9_normalized</th>\n",
       "      <th>smart_9_raw</th>\n",
       "      <th>smart_12_raw</th>\n",
       "      <th>...</th>\n",
       "      <th>smart_187_raw</th>\n",
       "      <th>smart_188_raw</th>\n",
       "      <th>smart_193_normalized</th>\n",
       "      <th>smart_193_raw</th>\n",
       "      <th>smart_197_raw</th>\n",
       "      <th>smart_198_raw</th>\n",
       "      <th>smart_199_raw</th>\n",
       "      <th>smart_240_raw</th>\n",
       "      <th>smart_241_raw</th>\n",
       "      <th>smart_242_raw</th>\n",
       "    </tr>\n",
       "  </thead>\n",
       "  <tbody>\n",
       "    <tr>\n",
       "      <th>0</th>\n",
       "      <td>S3000FZ5</td>\n",
       "      <td>0</td>\n",
       "      <td>476093656571904</td>\n",
       "      <td>13686.0</td>\n",
       "      <td>595.0</td>\n",
       "      <td>0.0</td>\n",
       "      <td>2.817327e+10</td>\n",
       "      <td>11284.0</td>\n",
       "      <td>589167.0</td>\n",
       "      <td>595.0</td>\n",
       "      <td>...</td>\n",
       "      <td>0.0</td>\n",
       "      <td>0.0</td>\n",
       "      <td>11662.0</td>\n",
       "      <td>515961.0</td>\n",
       "      <td>0.0</td>\n",
       "      <td>0.0</td>\n",
       "      <td>0.0</td>\n",
       "      <td>1.651378e+16</td>\n",
       "      <td>1.309012e+12</td>\n",
       "      <td>1.849806e+12</td>\n",
       "    </tr>\n",
       "    <tr>\n",
       "      <th>1</th>\n",
       "      <td>S3000QAP</td>\n",
       "      <td>0</td>\n",
       "      <td>476093656571904</td>\n",
       "      <td>13705.0</td>\n",
       "      <td>767.0</td>\n",
       "      <td>0.0</td>\n",
       "      <td>3.112039e+10</td>\n",
       "      <td>11269.0</td>\n",
       "      <td>603537.0</td>\n",
       "      <td>767.0</td>\n",
       "      <td>...</td>\n",
       "      <td>0.0</td>\n",
       "      <td>272.0</td>\n",
       "      <td>10488.0</td>\n",
       "      <td>2873862.0</td>\n",
       "      <td>0.0</td>\n",
       "      <td>0.0</td>\n",
       "      <td>0.0</td>\n",
       "      <td>5.886970e+05</td>\n",
       "      <td>1.854754e+12</td>\n",
       "      <td>1.253666e+13</td>\n",
       "    </tr>\n",
       "    <tr>\n",
       "      <th>2</th>\n",
       "      <td>S3002HH0</td>\n",
       "      <td>0</td>\n",
       "      <td>476093656571904</td>\n",
       "      <td>13631.0</td>\n",
       "      <td>1208.0</td>\n",
       "      <td>0.0</td>\n",
       "      <td>1.312904e+10</td>\n",
       "      <td>11697.0</td>\n",
       "      <td>232537.0</td>\n",
       "      <td>1208.0</td>\n",
       "      <td>...</td>\n",
       "      <td>0.0</td>\n",
       "      <td>0.0</td>\n",
       "      <td>11342.0</td>\n",
       "      <td>1221007.0</td>\n",
       "      <td>0.0</td>\n",
       "      <td>0.0</td>\n",
       "      <td>0.0</td>\n",
       "      <td>2.256840e+05</td>\n",
       "      <td>9.556671e+11</td>\n",
       "      <td>3.202999e+12</td>\n",
       "    </tr>\n",
       "    <tr>\n",
       "      <th>3</th>\n",
       "      <td>S30034E6</td>\n",
       "      <td>0</td>\n",
       "      <td>476093656571904</td>\n",
       "      <td>13707.0</td>\n",
       "      <td>595.0</td>\n",
       "      <td>0.0</td>\n",
       "      <td>3.744539e+10</td>\n",
       "      <td>11385.0</td>\n",
       "      <td>501272.0</td>\n",
       "      <td>595.0</td>\n",
       "      <td>...</td>\n",
       "      <td>0.0</td>\n",
       "      <td>0.0</td>\n",
       "      <td>11781.0</td>\n",
       "      <td>434126.0</td>\n",
       "      <td>0.0</td>\n",
       "      <td>0.0</td>\n",
       "      <td>0.0</td>\n",
       "      <td>1.613259e+16</td>\n",
       "      <td>1.328333e+12</td>\n",
       "      <td>2.709739e+12</td>\n",
       "    </tr>\n",
       "    <tr>\n",
       "      <th>4</th>\n",
       "      <td>S3003GAB</td>\n",
       "      <td>0</td>\n",
       "      <td>476093656571904</td>\n",
       "      <td>13662.0</td>\n",
       "      <td>931.0</td>\n",
       "      <td>0.0</td>\n",
       "      <td>1.932952e+10</td>\n",
       "      <td>11573.0</td>\n",
       "      <td>341074.0</td>\n",
       "      <td>931.0</td>\n",
       "      <td>...</td>\n",
       "      <td>0.0</td>\n",
       "      <td>0.0</td>\n",
       "      <td>11355.0</td>\n",
       "      <td>1279592.0</td>\n",
       "      <td>0.0</td>\n",
       "      <td>0.0</td>\n",
       "      <td>0.0</td>\n",
       "      <td>3.347480e+05</td>\n",
       "      <td>1.143215e+12</td>\n",
       "      <td>5.060294e+12</td>\n",
       "    </tr>\n",
       "  </tbody>\n",
       "</table>\n",
       "<p>5 rows × 22 columns</p>\n",
       "</div>"
      ],
      "text/plain": [
       "  serial_number  failure   capacity_bytes  smart_1_normalized  smart_4_raw  \\\n",
       "0      S3000FZ5        0  476093656571904             13686.0        595.0   \n",
       "1      S3000QAP        0  476093656571904             13705.0        767.0   \n",
       "2      S3002HH0        0  476093656571904             13631.0       1208.0   \n",
       "3      S30034E6        0  476093656571904             13707.0        595.0   \n",
       "4      S3003GAB        0  476093656571904             13662.0        931.0   \n",
       "\n",
       "   smart_5_raw   smart_7_raw  smart_9_normalized  smart_9_raw  smart_12_raw  \\\n",
       "0          0.0  2.817327e+10             11284.0     589167.0         595.0   \n",
       "1          0.0  3.112039e+10             11269.0     603537.0         767.0   \n",
       "2          0.0  1.312904e+10             11697.0     232537.0        1208.0   \n",
       "3          0.0  3.744539e+10             11385.0     501272.0         595.0   \n",
       "4          0.0  1.932952e+10             11573.0     341074.0         931.0   \n",
       "\n",
       "   ...  smart_187_raw  smart_188_raw  smart_193_normalized  smart_193_raw  \\\n",
       "0  ...            0.0            0.0               11662.0       515961.0   \n",
       "1  ...            0.0          272.0               10488.0      2873862.0   \n",
       "2  ...            0.0            0.0               11342.0      1221007.0   \n",
       "3  ...            0.0            0.0               11781.0       434126.0   \n",
       "4  ...            0.0            0.0               11355.0      1279592.0   \n",
       "\n",
       "   smart_197_raw  smart_198_raw  smart_199_raw  smart_240_raw  smart_241_raw  \\\n",
       "0            0.0            0.0            0.0   1.651378e+16   1.309012e+12   \n",
       "1            0.0            0.0            0.0   5.886970e+05   1.854754e+12   \n",
       "2            0.0            0.0            0.0   2.256840e+05   9.556671e+11   \n",
       "3            0.0            0.0            0.0   1.613259e+16   1.328333e+12   \n",
       "4            0.0            0.0            0.0   3.347480e+05   1.143215e+12   \n",
       "\n",
       "   smart_242_raw  \n",
       "0   1.849806e+12  \n",
       "1   1.253666e+13  \n",
       "2   3.202999e+12  \n",
       "3   2.709739e+12  \n",
       "4   5.060294e+12  \n",
       "\n",
       "[5 rows x 22 columns]"
      ]
     },
     "execution_count": 9,
     "metadata": {},
     "output_type": "execute_result"
    }
   ],
   "source": [
    "df.head()"
   ]
  },
  {
   "cell_type": "code",
   "execution_count": 10,
   "metadata": {},
   "outputs": [
    {
     "data": {
      "text/plain": [
       "serial_number           32494\n",
       "failure                 32494\n",
       "capacity_bytes          32494\n",
       "smart_1_normalized      32494\n",
       "smart_4_raw             32494\n",
       "smart_5_raw             32494\n",
       "smart_7_raw             32494\n",
       "smart_9_normalized      32494\n",
       "smart_9_raw             32494\n",
       "smart_12_raw            32494\n",
       "smart_183_raw           32494\n",
       "smart_184_raw           32494\n",
       "smart_187_raw           32494\n",
       "smart_188_raw           32494\n",
       "smart_193_normalized    32494\n",
       "smart_193_raw           32494\n",
       "smart_197_raw           32494\n",
       "smart_198_raw           32494\n",
       "smart_199_raw           32494\n",
       "smart_240_raw           32494\n",
       "smart_241_raw           32494\n",
       "smart_242_raw           32494\n",
       "dtype: int64"
      ]
     },
     "execution_count": 10,
     "metadata": {},
     "output_type": "execute_result"
    }
   ],
   "source": [
    "df.count()"
   ]
  },
  {
   "cell_type": "code",
   "execution_count": 11,
   "metadata": {},
   "outputs": [],
   "source": [
    "y,X= df['failure'],df.drop(['failure','serial_number','capacity_bytes'],axis=1)\n",
    "\n",
    "x_train, x_test, y_train, y_test = model_selection.train_test_split(X, y, test_size=.2, stratify=y)"
   ]
  },
  {
   "cell_type": "code",
   "execution_count": 12,
   "metadata": {},
   "outputs": [
    {
     "data": {
      "text/plain": [
       "(6499, 19)"
      ]
     },
     "execution_count": 12,
     "metadata": {},
     "output_type": "execute_result"
    }
   ],
   "source": [
    "x_test.shape"
   ]
  },
  {
   "cell_type": "code",
   "execution_count": 13,
   "metadata": {},
   "outputs": [],
   "source": [
    "#scaler = preprocessing.MinMaxScaler()\n",
    "scaler = StandardScaler()\n",
    "\n",
    "x_train = scaler.fit_transform(x_train)\n",
    "\n",
    "x_test = scaler.transform(x_test)"
   ]
  },
  {
   "cell_type": "code",
   "execution_count": 14,
   "metadata": {},
   "outputs": [
    {
     "name": "stdout",
     "output_type": "stream",
     "text": [
      "25995 6499\n"
     ]
    }
   ],
   "source": [
    "print(len(x_train), len(x_test))"
   ]
  },
  {
   "cell_type": "code",
   "execution_count": 15,
   "metadata": {},
   "outputs": [],
   "source": [
    "#X_train_val, X_test, y_train_val, y_test = train_test_split(X, y, test_size=0.2,random_state=13)\n",
    "\n",
    "#X_train, X_val, y_train, y_val = train_test_split(X_train_val, y_train_val, test_size=.25, random_state=43)"
   ]
  },
  {
   "cell_type": "code",
   "execution_count": 16,
   "metadata": {},
   "outputs": [],
   "source": [
    "def print_metrics(model):\n",
    "  \n",
    "    y_pred = model.predict(x_test)\n",
    "\n",
    "    print(metrics.classification_report(y_test, y_pred))"
   ]
  },
  {
   "cell_type": "code",
   "execution_count": 36,
   "metadata": {},
   "outputs": [
    {
     "name": "stdout",
     "output_type": "stream",
     "text": [
      "              precision    recall  f1-score   support\n",
      "\n",
      "           0       0.97      1.00      0.98      6205\n",
      "           1       0.88      0.36      0.51       294\n",
      "\n",
      "    accuracy                           0.97      6499\n",
      "   macro avg       0.92      0.68      0.75      6499\n",
      "weighted avg       0.97      0.97      0.96      6499\n",
      "\n"
     ]
    }
   ],
   "source": [
    "rf_weights  = {\n",
    "      0: 1,\n",
    "      1: 200}\n",
    "RandomForest_weights = RandomForestClassifier(class_weight=rf_weights,n_estimators=100)\n",
    "RandomForest_weights.fit(x_train, y_train)\n",
    "\n",
    "print_metrics(RandomForest_weights)"
   ]
  },
  {
   "cell_type": "code",
   "execution_count": 39,
   "metadata": {},
   "outputs": [],
   "source": [
    "rf_weights  = {\n",
    "      0: 1,\n",
    "      1: 200}\n",
    "randomforest = RandomForestClassifier(class_weight=rf_weights,n_estimators=100)"
   ]
  },
  {
   "cell_type": "code",
   "execution_count": 40,
   "metadata": {},
   "outputs": [
    {
     "data": {
      "text/plain": [
       "RandomForestClassifier(bootstrap=True, class_weight={0: 1, 1: 200},\n",
       "                       criterion='gini', max_depth=None, max_features='auto',\n",
       "                       max_leaf_nodes=None, min_impurity_decrease=0.0,\n",
       "                       min_impurity_split=None, min_samples_leaf=1,\n",
       "                       min_samples_split=2, min_weight_fraction_leaf=0.0,\n",
       "                       n_estimators=100, n_jobs=None, oob_score=False,\n",
       "                       random_state=None, verbose=0, warm_start=False)"
      ]
     },
     "execution_count": 40,
     "metadata": {},
     "output_type": "execute_result"
    }
   ],
   "source": [
    "randomforest.fit(x_train,y_train)"
   ]
  },
  {
   "cell_type": "code",
   "execution_count": 41,
   "metadata": {},
   "outputs": [
    {
     "data": {
      "text/plain": [
       "1.0"
      ]
     },
     "execution_count": 41,
     "metadata": {},
     "output_type": "execute_result"
    }
   ],
   "source": [
    "randomforest.score(x_train,y_train)"
   ]
  },
  {
   "cell_type": "code",
   "execution_count": 42,
   "metadata": {},
   "outputs": [
    {
     "data": {
      "text/plain": [
       "array([[6190,   15],\n",
       "       [ 190,  104]])"
      ]
     },
     "execution_count": 42,
     "metadata": {},
     "output_type": "execute_result"
    }
   ],
   "source": [
    "rf_conf=confusion_matrix(y_test, randomforest.predict(x_test))\n",
    "rf_conf\n"
   ]
  },
  {
   "cell_type": "code",
   "execution_count": 43,
   "metadata": {},
   "outputs": [
    {
     "name": "stdout",
     "output_type": "stream",
     "text": [
      "RF Incorrectly thinks 0.24174053182917002 % are going to fail\n"
     ]
    }
   ],
   "source": [
    "failperc=100*(rf_conf[0])[1]/((rf_conf[0])[0]+(rf_conf[0])[1])\n",
    "print('RF Incorrectly thinks', failperc,'% are going to fail')"
   ]
  },
  {
   "cell_type": "code",
   "execution_count": 44,
   "metadata": {},
   "outputs": [
    {
     "name": "stdout",
     "output_type": "stream",
     "text": [
      "RF Correctly thinks 35.374149659863946 % are going to fail\n"
     ]
    }
   ],
   "source": [
    "caught= 100*(rf_conf[1])[1]/((rf_conf[1])[0]+(rf_conf[1])[1])\n",
    "print('RF Correctly thinks', caught,'% are going to fail')"
   ]
  },
  {
   "cell_type": "code",
   "execution_count": null,
   "metadata": {},
   "outputs": [],
   "source": []
  },
  {
   "cell_type": "code",
   "execution_count": null,
   "metadata": {},
   "outputs": [],
   "source": []
  }
 ],
 "metadata": {
  "kernelspec": {
   "display_name": "Python 3",
   "language": "python",
   "name": "python3"
  },
  "language_info": {
   "codemirror_mode": {
    "name": "ipython",
    "version": 3
   },
   "file_extension": ".py",
   "mimetype": "text/x-python",
   "name": "python",
   "nbconvert_exporter": "python",
   "pygments_lexer": "ipython3",
   "version": "3.7.3"
  }
 },
 "nbformat": 4,
 "nbformat_minor": 2
}
