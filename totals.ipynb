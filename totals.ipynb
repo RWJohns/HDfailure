{
 "cells": [
  {
   "cell_type": "markdown",
   "metadata": {},
   "source": [
    "## Here I will take the key features from my data set and run them through weighted classificaton models, current models are Random Forest and Logit\n",
    "\n",
    "due to class imbalance and non-linear features my models are currently correctly identifying approx 10- 50% of the failed hard drives and mis attributing approx 5 - 25% of the working drives as broken. I will implement non-linear feature treatment and svm to address this in the coming days."
   ]
  },
  {
   "cell_type": "code",
   "execution_count": null,
   "metadata": {},
   "outputs": [],
   "source": []
  },
  {
   "cell_type": "code",
   "execution_count": null,
   "metadata": {},
   "outputs": [],
   "source": []
  },
  {
   "cell_type": "code",
   "execution_count": 132,
   "metadata": {},
   "outputs": [],
   "source": [
    "import pandas as pd\n",
    "import sklearn\n",
    "import seaborn as sns"
   ]
  },
  {
   "cell_type": "code",
   "execution_count": 133,
   "metadata": {},
   "outputs": [],
   "source": [
    "from sklearn.model_selection import train_test_split"
   ]
  },
  {
   "cell_type": "code",
   "execution_count": 134,
   "metadata": {},
   "outputs": [],
   "source": [
    "from sklearn import svm, ensemble, linear_model, neighbors, naive_bayes"
   ]
  },
  {
   "cell_type": "code",
   "execution_count": 135,
   "metadata": {},
   "outputs": [],
   "source": [
    "from sklearn.preprocessing import StandardScaler\n",
    "from sklearn.metrics import confusion_matrix\n",
    "\n",
    "from sklearn.metrics import precision_score, recall_score, precision_recall_curve,f1_score, fbeta_score"
   ]
  },
  {
   "cell_type": "code",
   "execution_count": 136,
   "metadata": {},
   "outputs": [],
   "source": [
    "from sklearn.naive_bayes import GaussianNB, MultinomialNB, BernoulliNB\n",
    "from sklearn.tree import DecisionTreeClassifier, DecisionTreeRegressor\n",
    "from sklearn.ensemble import (RandomForestClassifier, ExtraTreesClassifier, VotingClassifier, \n",
    "                              AdaBoostClassifier, BaggingRegressor)\n",
    "from sklearn import linear_model, svm, metrics, ensemble"
   ]
  },
  {
   "cell_type": "code",
   "execution_count": 137,
   "metadata": {},
   "outputs": [],
   "source": [
    "from sklearn import model_selection, preprocessing"
   ]
  },
  {
   "cell_type": "code",
   "execution_count": 138,
   "metadata": {},
   "outputs": [],
   "source": [
    "df = pd.read_pickle(\"/Users/robjohns/Data/Metis/HDfailure/Data/tot_pickle.pkl\")\n"
   ]
  },
  {
   "cell_type": "code",
   "execution_count": 139,
   "metadata": {},
   "outputs": [
    {
     "data": {
      "text/plain": [
       "0    31252\n",
       "1     1486\n",
       "Name: failure, dtype: int64"
      ]
     },
     "execution_count": 139,
     "metadata": {},
     "output_type": "execute_result"
    }
   ],
   "source": [
    "df.failure.value_counts()"
   ]
  },
  {
   "cell_type": "code",
   "execution_count": 140,
   "metadata": {},
   "outputs": [
    {
     "data": {
      "text/html": [
       "<div>\n",
       "<style scoped>\n",
       "    .dataframe tbody tr th:only-of-type {\n",
       "        vertical-align: middle;\n",
       "    }\n",
       "\n",
       "    .dataframe tbody tr th {\n",
       "        vertical-align: top;\n",
       "    }\n",
       "\n",
       "    .dataframe thead th {\n",
       "        text-align: right;\n",
       "    }\n",
       "</style>\n",
       "<table border=\"1\" class=\"dataframe\">\n",
       "  <thead>\n",
       "    <tr style=\"text-align: right;\">\n",
       "      <th></th>\n",
       "      <th>serial_number</th>\n",
       "      <th>failure</th>\n",
       "      <th>capacity_bytes</th>\n",
       "      <th>smart_1_normalized</th>\n",
       "      <th>smart_1_raw</th>\n",
       "      <th>smart_4_raw</th>\n",
       "      <th>smart_5_raw</th>\n",
       "      <th>smart_7_normalized</th>\n",
       "      <th>smart_9_normalized</th>\n",
       "      <th>smart_9_raw</th>\n",
       "      <th>smart_183_raw</th>\n",
       "      <th>smart_187_raw</th>\n",
       "      <th>smart_190_normalized</th>\n",
       "      <th>smart_193_raw</th>\n",
       "      <th>smart_197_raw</th>\n",
       "      <th>smart_198_raw</th>\n",
       "      <th>smart_199_raw</th>\n",
       "      <th>smart_240_raw</th>\n",
       "      <th>smart_242_raw</th>\n",
       "    </tr>\n",
       "  </thead>\n",
       "  <tbody>\n",
       "    <tr>\n",
       "      <th>0</th>\n",
       "      <td>S3000FZ5</td>\n",
       "      <td>0</td>\n",
       "      <td>484095230631936</td>\n",
       "      <td>13923.0</td>\n",
       "      <td>1.387917e+10</td>\n",
       "      <td>605.0</td>\n",
       "      <td>0.0</td>\n",
       "      <td>10076.0</td>\n",
       "      <td>11470.0</td>\n",
       "      <td>601973.0</td>\n",
       "      <td>0.0</td>\n",
       "      <td>0.0</td>\n",
       "      <td>8642.0</td>\n",
       "      <td>524663.0</td>\n",
       "      <td>0.0</td>\n",
       "      <td>0.0</td>\n",
       "      <td>0.0</td>\n",
       "      <td>1.675017e+16</td>\n",
       "      <td>1.888155e+12</td>\n",
       "    </tr>\n",
       "    <tr>\n",
       "      <th>1</th>\n",
       "      <td>S3000QAP</td>\n",
       "      <td>0</td>\n",
       "      <td>484095230631936</td>\n",
       "      <td>13942.0</td>\n",
       "      <td>1.549529e+10</td>\n",
       "      <td>783.0</td>\n",
       "      <td>0.0</td>\n",
       "      <td>10120.0</td>\n",
       "      <td>11455.0</td>\n",
       "      <td>616584.0</td>\n",
       "      <td>0.0</td>\n",
       "      <td>0.0</td>\n",
       "      <td>8613.0</td>\n",
       "      <td>2931154.0</td>\n",
       "      <td>0.0</td>\n",
       "      <td>0.0</td>\n",
       "      <td>0.0</td>\n",
       "      <td>6.014590e+05</td>\n",
       "      <td>1.278215e+13</td>\n",
       "    </tr>\n",
       "    <tr>\n",
       "      <th>2</th>\n",
       "      <td>S3002HH0</td>\n",
       "      <td>0</td>\n",
       "      <td>484095230631936</td>\n",
       "      <td>13860.0</td>\n",
       "      <td>1.321871e+10</td>\n",
       "      <td>1230.0</td>\n",
       "      <td>0.0</td>\n",
       "      <td>9608.0</td>\n",
       "      <td>11891.0</td>\n",
       "      <td>239349.0</td>\n",
       "      <td>0.0</td>\n",
       "      <td>0.0</td>\n",
       "      <td>9252.0</td>\n",
       "      <td>1250581.0</td>\n",
       "      <td>0.0</td>\n",
       "      <td>0.0</td>\n",
       "      <td>0.0</td>\n",
       "      <td>2.323410e+05</td>\n",
       "      <td>3.283178e+12</td>\n",
       "    </tr>\n",
       "    <tr>\n",
       "      <th>3</th>\n",
       "      <td>S30034E6</td>\n",
       "      <td>0</td>\n",
       "      <td>484095230631936</td>\n",
       "      <td>13937.0</td>\n",
       "      <td>1.477775e+10</td>\n",
       "      <td>605.0</td>\n",
       "      <td>0.0</td>\n",
       "      <td>10205.0</td>\n",
       "      <td>11573.0</td>\n",
       "      <td>512600.0</td>\n",
       "      <td>0.0</td>\n",
       "      <td>0.0</td>\n",
       "      <td>9125.0</td>\n",
       "      <td>441454.0</td>\n",
       "      <td>0.0</td>\n",
       "      <td>0.0</td>\n",
       "      <td>0.0</td>\n",
       "      <td>1.662708e+16</td>\n",
       "      <td>2.761480e+12</td>\n",
       "    </tr>\n",
       "    <tr>\n",
       "      <th>4</th>\n",
       "      <td>S3003GAB</td>\n",
       "      <td>0</td>\n",
       "      <td>484095230631936</td>\n",
       "      <td>13887.0</td>\n",
       "      <td>1.372514e+10</td>\n",
       "      <td>949.0</td>\n",
       "      <td>0.0</td>\n",
       "      <td>9858.0</td>\n",
       "      <td>11765.0</td>\n",
       "      <td>349710.0</td>\n",
       "      <td>0.0</td>\n",
       "      <td>0.0</td>\n",
       "      <td>9654.0</td>\n",
       "      <td>1314817.0</td>\n",
       "      <td>0.0</td>\n",
       "      <td>0.0</td>\n",
       "      <td>0.0</td>\n",
       "      <td>3.432260e+05</td>\n",
       "      <td>5.174248e+12</td>\n",
       "    </tr>\n",
       "  </tbody>\n",
       "</table>\n",
       "</div>"
      ],
      "text/plain": [
       "  serial_number  failure   capacity_bytes  smart_1_normalized   smart_1_raw  \\\n",
       "0      S3000FZ5        0  484095230631936             13923.0  1.387917e+10   \n",
       "1      S3000QAP        0  484095230631936             13942.0  1.549529e+10   \n",
       "2      S3002HH0        0  484095230631936             13860.0  1.321871e+10   \n",
       "3      S30034E6        0  484095230631936             13937.0  1.477775e+10   \n",
       "4      S3003GAB        0  484095230631936             13887.0  1.372514e+10   \n",
       "\n",
       "   smart_4_raw  smart_5_raw  smart_7_normalized  smart_9_normalized  \\\n",
       "0        605.0          0.0             10076.0             11470.0   \n",
       "1        783.0          0.0             10120.0             11455.0   \n",
       "2       1230.0          0.0              9608.0             11891.0   \n",
       "3        605.0          0.0             10205.0             11573.0   \n",
       "4        949.0          0.0              9858.0             11765.0   \n",
       "\n",
       "   smart_9_raw  smart_183_raw  smart_187_raw  smart_190_normalized  \\\n",
       "0     601973.0            0.0            0.0                8642.0   \n",
       "1     616584.0            0.0            0.0                8613.0   \n",
       "2     239349.0            0.0            0.0                9252.0   \n",
       "3     512600.0            0.0            0.0                9125.0   \n",
       "4     349710.0            0.0            0.0                9654.0   \n",
       "\n",
       "   smart_193_raw  smart_197_raw  smart_198_raw  smart_199_raw  smart_240_raw  \\\n",
       "0       524663.0            0.0            0.0            0.0   1.675017e+16   \n",
       "1      2931154.0            0.0            0.0            0.0   6.014590e+05   \n",
       "2      1250581.0            0.0            0.0            0.0   2.323410e+05   \n",
       "3       441454.0            0.0            0.0            0.0   1.662708e+16   \n",
       "4      1314817.0            0.0            0.0            0.0   3.432260e+05   \n",
       "\n",
       "   smart_242_raw  \n",
       "0   1.888155e+12  \n",
       "1   1.278215e+13  \n",
       "2   3.283178e+12  \n",
       "3   2.761480e+12  \n",
       "4   5.174248e+12  "
      ]
     },
     "execution_count": 140,
     "metadata": {},
     "output_type": "execute_result"
    }
   ],
   "source": [
    "df.head()"
   ]
  },
  {
   "cell_type": "code",
   "execution_count": 141,
   "metadata": {},
   "outputs": [
    {
     "data": {
      "text/plain": [
       "serial_number           32738\n",
       "failure                 32738\n",
       "capacity_bytes          32738\n",
       "smart_1_normalized      32738\n",
       "smart_1_raw             32738\n",
       "smart_4_raw             32738\n",
       "smart_5_raw             32738\n",
       "smart_7_normalized      32738\n",
       "smart_9_normalized      32738\n",
       "smart_9_raw             32738\n",
       "smart_183_raw           32738\n",
       "smart_187_raw           32738\n",
       "smart_190_normalized    32738\n",
       "smart_193_raw           32738\n",
       "smart_197_raw           32738\n",
       "smart_198_raw           32738\n",
       "smart_199_raw           32738\n",
       "smart_240_raw           32738\n",
       "smart_242_raw           32738\n",
       "dtype: int64"
      ]
     },
     "execution_count": 141,
     "metadata": {},
     "output_type": "execute_result"
    }
   ],
   "source": [
    "df.count()"
   ]
  },
  {
   "cell_type": "code",
   "execution_count": 142,
   "metadata": {},
   "outputs": [],
   "source": [
    "y,X= df['failure'],df.drop(['failure','serial_number','capacity_bytes'],axis=1)\n",
    "\n",
    "x_train, x_test, y_train, y_test = model_selection.train_test_split(X, y, test_size=.2, stratify=y)"
   ]
  },
  {
   "cell_type": "code",
   "execution_count": 143,
   "metadata": {},
   "outputs": [
    {
     "data": {
      "text/plain": [
       "(6548, 16)"
      ]
     },
     "execution_count": 143,
     "metadata": {},
     "output_type": "execute_result"
    }
   ],
   "source": [
    "x_test.shape"
   ]
  },
  {
   "cell_type": "code",
   "execution_count": 144,
   "metadata": {},
   "outputs": [],
   "source": [
    "#scaler = preprocessing.MinMaxScaler()\n",
    "scaler = StandardScaler()\n",
    "\n",
    "x_train = scaler.fit_transform(x_train)\n",
    "\n",
    "x_test = scaler.transform(x_test)"
   ]
  },
  {
   "cell_type": "code",
   "execution_count": 145,
   "metadata": {},
   "outputs": [
    {
     "name": "stdout",
     "output_type": "stream",
     "text": [
      "26190 6548\n"
     ]
    }
   ],
   "source": [
    "print(len(x_train), len(x_test))"
   ]
  },
  {
   "cell_type": "code",
   "execution_count": 146,
   "metadata": {},
   "outputs": [],
   "source": [
    "#X_train_val, X_test, y_train_val, y_test = train_test_split(X, y, test_size=0.2,random_state=13)\n",
    "\n",
    "#X_train, X_val, y_train, y_val = train_test_split(X_train_val, y_train_val, test_size=.25, random_state=43)"
   ]
  },
  {
   "cell_type": "code",
   "execution_count": 147,
   "metadata": {},
   "outputs": [],
   "source": [
    "def print_metrics(model):\n",
    "  \n",
    "    y_pred = model.predict(x_test)\n",
    "\n",
    "    print(metrics.classification_report(y_test, y_pred))"
   ]
  },
  {
   "cell_type": "code",
   "execution_count": 165,
   "metadata": {},
   "outputs": [
    {
     "name": "stdout",
     "output_type": "stream",
     "text": [
      "              precision    recall  f1-score   support\n",
      "\n",
      "           0       0.98      1.00      0.99      6251\n",
      "           1       0.87      0.54      0.66       297\n",
      "\n",
      "    accuracy                           0.98      6548\n",
      "   macro avg       0.92      0.77      0.82      6548\n",
      "weighted avg       0.97      0.98      0.97      6548\n",
      "\n"
     ]
    }
   ],
   "source": [
    "rf_weights  = {\n",
    "      0: 1,\n",
    "      1: 200}\n",
    "RandomForest_weights = RandomForestClassifier(class_weight=rf_weights,n_estimators=400)\n",
    "RandomForest_weights.fit(x_train, y_train)\n",
    "\n",
    "print_metrics(RandomForest_weights)"
   ]
  },
  {
   "cell_type": "code",
   "execution_count": 163,
   "metadata": {},
   "outputs": [],
   "source": [
    "rf_weights  = {\n",
    "      0: 1,\n",
    "      1: 200}\n",
    "randomforest = RandomForestClassifier(class_weight=rf_weights,n_estimators=100)"
   ]
  },
  {
   "cell_type": "code",
   "execution_count": 156,
   "metadata": {},
   "outputs": [
    {
     "data": {
      "text/plain": [
       "RandomForestClassifier(bootstrap=True, class_weight={0: 1, 1: 200},\n",
       "                       criterion='gini', max_depth=None, max_features='auto',\n",
       "                       max_leaf_nodes=None, min_impurity_decrease=0.0,\n",
       "                       min_impurity_split=None, min_samples_leaf=1,\n",
       "                       min_samples_split=2, min_weight_fraction_leaf=0.0,\n",
       "                       n_estimators=100, n_jobs=None, oob_score=False,\n",
       "                       random_state=None, verbose=0, warm_start=False)"
      ]
     },
     "execution_count": 156,
     "metadata": {},
     "output_type": "execute_result"
    }
   ],
   "source": [
    "randomforest.fit(x_train,y_train)"
   ]
  },
  {
   "cell_type": "code",
   "execution_count": 157,
   "metadata": {},
   "outputs": [
    {
     "data": {
      "text/plain": [
       "0.9999236349751813"
      ]
     },
     "execution_count": 157,
     "metadata": {},
     "output_type": "execute_result"
    }
   ],
   "source": [
    "randomforest.score(x_train,y_train)"
   ]
  },
  {
   "cell_type": "code",
   "execution_count": 158,
   "metadata": {},
   "outputs": [
    {
     "data": {
      "text/plain": [
       "array([[6227,   24],\n",
       "       [ 136,  161]])"
      ]
     },
     "execution_count": 158,
     "metadata": {},
     "output_type": "execute_result"
    }
   ],
   "source": [
    "rf_conf=confusion_matrix(y_test, randomforest.predict(x_test))\n",
    "rf_conf\n"
   ]
  },
  {
   "cell_type": "code",
   "execution_count": 159,
   "metadata": {},
   "outputs": [
    {
     "name": "stdout",
     "output_type": "stream",
     "text": [
      "RF Incorrectly thinks 0.3839385698288274 % are going to fail\n"
     ]
    }
   ],
   "source": [
    "failperc=100*(rf_conf[0])[1]/((rf_conf[0])[0]+(rf_conf[0])[1])\n",
    "print('RF Incorrectly thinks', failperc,'% are going to fail')"
   ]
  },
  {
   "cell_type": "code",
   "execution_count": 160,
   "metadata": {},
   "outputs": [
    {
     "name": "stdout",
     "output_type": "stream",
     "text": [
      "RF Correctly thinks 54.20875420875421 % are going to fail\n"
     ]
    }
   ],
   "source": [
    "caught= 100*(rf_conf[1])[1]/((rf_conf[1])[0]+(rf_conf[1])[1])\n",
    "print('RF Correctly thinks', caught,'% are going to fail')"
   ]
  },
  {
   "cell_type": "code",
   "execution_count": null,
   "metadata": {},
   "outputs": [],
   "source": [
    "smart_1_normalized      0.26835208\n",
    "smart_242_raw           0.08309117\n",
    "smart_9_normalized      0.08474709\n",
    "smart_1_raw             0.07567621\n",
    "smart_4_raw             0.07868987\n",
    "smart_193_raw           0.07548311\n",
    "smart_9_raw             0.07492018\n",
    "smart_7_normalized      0.06801477\n",
    "smart_190_normalized    0.06455241\n",
    "\n",
    "\n",
    "\n",
    "\n",
    "smart_183_raw           0.02304617\n",
    "smart_187_raw           0.02362154\n",
    "smart_5_raw             0.00552174\n",
    "smart_197_raw           0.03245706\n",
    "smart_198_raw           0.03120192\n",
    "smart_199_raw           0.00316435\n",
    "smart_240_raw           0.00746034\n"
   ]
  },
  {
   "cell_type": "code",
   "execution_count": 168,
   "metadata": {},
   "outputs": [
    {
     "data": {
      "text/plain": [
       "array([0.26835208, 0.07567621, 0.07868987, 0.00552174, 0.06801477,\n",
       "       0.08474709, 0.07492018, 0.02304617, 0.02362154, 0.06455241,\n",
       "       0.07548311, 0.03245706, 0.03120192, 0.00316435, 0.00746034,\n",
       "       0.08309117])"
      ]
     },
     "execution_count": 168,
     "metadata": {},
     "output_type": "execute_result"
    }
   ],
   "source": [
    "RandomForest_weights.feature_importances_"
   ]
  },
  {
   "cell_type": "code",
   "execution_count": 172,
   "metadata": {},
   "outputs": [
    {
     "data": {
      "text/plain": [
       "serial_number           32738\n",
       "failure                 32738\n",
       "capacity_bytes          32738\n",
       "smart_1_normalized      32738\n",
       "smart_1_raw             32738\n",
       "smart_4_raw             32738\n",
       "smart_5_raw             32738\n",
       "smart_7_normalized      32738\n",
       "smart_9_normalized      32738\n",
       "smart_9_raw             32738\n",
       "smart_183_raw           32738\n",
       "smart_187_raw           32738\n",
       "smart_190_normalized    32738\n",
       "smart_193_raw           32738\n",
       "smart_197_raw           32738\n",
       "smart_198_raw           32738\n",
       "smart_199_raw           32738\n",
       "smart_240_raw           32738\n",
       "smart_242_raw           32738\n",
       "dtype: int64"
      ]
     },
     "execution_count": 172,
     "metadata": {},
     "output_type": "execute_result"
    }
   ],
   "source": [
    "df.count()"
   ]
  },
  {
   "cell_type": "code",
   "execution_count": null,
   "metadata": {},
   "outputs": [],
   "source": []
  }
 ],
 "metadata": {
  "kernelspec": {
   "display_name": "Python 3",
   "language": "python",
   "name": "python3"
  },
  "language_info": {
   "codemirror_mode": {
    "name": "ipython",
    "version": 3
   },
   "file_extension": ".py",
   "mimetype": "text/x-python",
   "name": "python",
   "nbconvert_exporter": "python",
   "pygments_lexer": "ipython3",
   "version": "3.7.3"
  }
 },
 "nbformat": 4,
 "nbformat_minor": 2
}
