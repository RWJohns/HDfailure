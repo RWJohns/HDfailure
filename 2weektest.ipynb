{
 "cells": [
  {
   "cell_type": "markdown",
   "metadata": {},
   "source": [
    "## Here I will take the key features from my data set and run them through weighted classificaton models, current models are Random Forest and Logit\n",
    "\n",
    "due to class imbalance and non-linear features my models are currently correctly identifying approx 10- 50% of the failed hard drives and mis attributing approx 5 - 25% of the working drives as broken. I will implement non-linear feature treatment and svm to address this in the coming days."
   ]
  },
  {
   "cell_type": "code",
   "execution_count": null,
   "metadata": {},
   "outputs": [],
   "source": []
  },
  {
   "cell_type": "code",
   "execution_count": null,
   "metadata": {},
   "outputs": [],
   "source": []
  },
  {
   "cell_type": "code",
   "execution_count": 10,
   "metadata": {},
   "outputs": [],
   "source": [
    "import pandas as pd\n",
    "import sklearn\n",
    "import seaborn as sns"
   ]
  },
  {
   "cell_type": "code",
   "execution_count": 11,
   "metadata": {},
   "outputs": [],
   "source": [
    "from sklearn.model_selection import train_test_split"
   ]
  },
  {
   "cell_type": "code",
   "execution_count": 12,
   "metadata": {},
   "outputs": [],
   "source": [
    "from sklearn import svm, ensemble, linear_model, neighbors, naive_bayes"
   ]
  },
  {
   "cell_type": "code",
   "execution_count": 13,
   "metadata": {},
   "outputs": [],
   "source": [
    "from sklearn.preprocessing import StandardScaler\n",
    "from sklearn.metrics import confusion_matrix\n",
    "\n",
    "from sklearn.metrics import precision_score, recall_score, precision_recall_curve,f1_score, fbeta_score"
   ]
  },
  {
   "cell_type": "code",
   "execution_count": 14,
   "metadata": {},
   "outputs": [],
   "source": [
    "from sklearn.naive_bayes import GaussianNB, MultinomialNB, BernoulliNB\n",
    "from sklearn.tree import DecisionTreeClassifier, DecisionTreeRegressor\n",
    "from sklearn.ensemble import (RandomForestClassifier, ExtraTreesClassifier, VotingClassifier, \n",
    "                              AdaBoostClassifier, BaggingRegressor)\n",
    "from sklearn import linear_model, svm, metrics, ensemble"
   ]
  },
  {
   "cell_type": "code",
   "execution_count": 15,
   "metadata": {},
   "outputs": [],
   "source": [
    "from sklearn import model_selection, preprocessing"
   ]
  },
  {
   "cell_type": "code",
   "execution_count": 16,
   "metadata": {},
   "outputs": [],
   "source": [
    "df = pd.read_pickle(\"/Users/robjohns/Data/Metis/HDfailure/Data/tot_2weeks_pickle.pkl\")"
   ]
  },
  {
   "cell_type": "code",
   "execution_count": 17,
   "metadata": {},
   "outputs": [
    {
     "data": {
      "text/plain": [
       "0    31252\n",
       "1     1486\n",
       "Name: failure, dtype: int64"
      ]
     },
     "execution_count": 17,
     "metadata": {},
     "output_type": "execute_result"
    }
   ],
   "source": [
    "df.failure.value_counts()"
   ]
  },
  {
   "cell_type": "code",
   "execution_count": 18,
   "metadata": {},
   "outputs": [
    {
     "data": {
      "text/html": [
       "<div>\n",
       "<style scoped>\n",
       "    .dataframe tbody tr th:only-of-type {\n",
       "        vertical-align: middle;\n",
       "    }\n",
       "\n",
       "    .dataframe tbody tr th {\n",
       "        vertical-align: top;\n",
       "    }\n",
       "\n",
       "    .dataframe thead th {\n",
       "        text-align: right;\n",
       "    }\n",
       "</style>\n",
       "<table border=\"1\" class=\"dataframe\">\n",
       "  <thead>\n",
       "    <tr style=\"text-align: right;\">\n",
       "      <th></th>\n",
       "      <th>serial_number</th>\n",
       "      <th>failure</th>\n",
       "      <th>capacity_bytes</th>\n",
       "      <th>smart_1_normalized</th>\n",
       "      <th>smart_3_normalized</th>\n",
       "      <th>smart_4_raw</th>\n",
       "      <th>smart_5_raw</th>\n",
       "      <th>smart_7_normalized</th>\n",
       "      <th>smart_7_raw</th>\n",
       "      <th>smart_9_normalized</th>\n",
       "      <th>...</th>\n",
       "      <th>smart_193_normalized</th>\n",
       "      <th>smart_193_raw</th>\n",
       "      <th>smart_194_normalized</th>\n",
       "      <th>smart_194_raw</th>\n",
       "      <th>smart_197_raw</th>\n",
       "      <th>smart_198_raw</th>\n",
       "      <th>smart_199_raw</th>\n",
       "      <th>smart_240_raw</th>\n",
       "      <th>smart_241_raw</th>\n",
       "      <th>smart_242_raw</th>\n",
       "    </tr>\n",
       "  </thead>\n",
       "  <tbody>\n",
       "    <tr>\n",
       "      <th>0</th>\n",
       "      <td>S3000FZ5</td>\n",
       "      <td>0</td>\n",
       "      <td>56011018420224</td>\n",
       "      <td>1622.0</td>\n",
       "      <td>1330.0</td>\n",
       "      <td>70.0</td>\n",
       "      <td>0.0</td>\n",
       "      <td>1176.0</td>\n",
       "      <td>4.216763e+09</td>\n",
       "      <td>1304.0</td>\n",
       "      <td>...</td>\n",
       "      <td>1372.0</td>\n",
       "      <td>60914.0</td>\n",
       "      <td>415.0</td>\n",
       "      <td>415.0</td>\n",
       "      <td>0.0</td>\n",
       "      <td>0.0</td>\n",
       "      <td>0.0</td>\n",
       "      <td>1.894106e+15</td>\n",
       "      <td>1.651018e+11</td>\n",
       "      <td>2.639205e+11</td>\n",
       "    </tr>\n",
       "    <tr>\n",
       "      <th>1</th>\n",
       "      <td>S3000QAP</td>\n",
       "      <td>0</td>\n",
       "      <td>56011018420224</td>\n",
       "      <td>1615.0</td>\n",
       "      <td>1274.0</td>\n",
       "      <td>112.0</td>\n",
       "      <td>0.0</td>\n",
       "      <td>1176.0</td>\n",
       "      <td>4.558123e+09</td>\n",
       "      <td>1302.0</td>\n",
       "      <td>...</td>\n",
       "      <td>1204.0</td>\n",
       "      <td>401044.0</td>\n",
       "      <td>392.0</td>\n",
       "      <td>392.0</td>\n",
       "      <td>0.0</td>\n",
       "      <td>0.0</td>\n",
       "      <td>0.0</td>\n",
       "      <td>8.732000e+04</td>\n",
       "      <td>2.346867e+11</td>\n",
       "      <td>1.705040e+12</td>\n",
       "    </tr>\n",
       "    <tr>\n",
       "      <th>2</th>\n",
       "      <td>S3002HH0</td>\n",
       "      <td>0</td>\n",
       "      <td>56011018420224</td>\n",
       "      <td>1624.0</td>\n",
       "      <td>1288.0</td>\n",
       "      <td>154.0</td>\n",
       "      <td>0.0</td>\n",
       "      <td>1148.0</td>\n",
       "      <td>2.588138e+09</td>\n",
       "      <td>1358.0</td>\n",
       "      <td>...</td>\n",
       "      <td>1302.0</td>\n",
       "      <td>207018.0</td>\n",
       "      <td>345.0</td>\n",
       "      <td>345.0</td>\n",
       "      <td>0.0</td>\n",
       "      <td>0.0</td>\n",
       "      <td>0.0</td>\n",
       "      <td>4.458400e+04</td>\n",
       "      <td>1.399439e+11</td>\n",
       "      <td>5.466639e+11</td>\n",
       "    </tr>\n",
       "    <tr>\n",
       "      <th>3</th>\n",
       "      <td>S30034E6</td>\n",
       "      <td>0</td>\n",
       "      <td>56011018420224</td>\n",
       "      <td>1624.0</td>\n",
       "      <td>1330.0</td>\n",
       "      <td>70.0</td>\n",
       "      <td>0.0</td>\n",
       "      <td>1192.0</td>\n",
       "      <td>5.543299e+09</td>\n",
       "      <td>1316.0</td>\n",
       "      <td>...</td>\n",
       "      <td>1386.0</td>\n",
       "      <td>51296.0</td>\n",
       "      <td>318.0</td>\n",
       "      <td>318.0</td>\n",
       "      <td>0.0</td>\n",
       "      <td>0.0</td>\n",
       "      <td>0.0</td>\n",
       "      <td>2.353376e+15</td>\n",
       "      <td>1.693085e+11</td>\n",
       "      <td>3.589584e+11</td>\n",
       "    </tr>\n",
       "    <tr>\n",
       "      <th>4</th>\n",
       "      <td>S3003GAB</td>\n",
       "      <td>0</td>\n",
       "      <td>56011018420224</td>\n",
       "      <td>1604.0</td>\n",
       "      <td>1288.0</td>\n",
       "      <td>118.0</td>\n",
       "      <td>0.0</td>\n",
       "      <td>1171.0</td>\n",
       "      <td>3.301111e+09</td>\n",
       "      <td>1344.0</td>\n",
       "      <td>...</td>\n",
       "      <td>1316.0</td>\n",
       "      <td>185027.0</td>\n",
       "      <td>287.0</td>\n",
       "      <td>287.0</td>\n",
       "      <td>0.0</td>\n",
       "      <td>0.0</td>\n",
       "      <td>0.0</td>\n",
       "      <td>5.756200e+04</td>\n",
       "      <td>1.594639e+11</td>\n",
       "      <td>7.925754e+11</td>\n",
       "    </tr>\n",
       "  </tbody>\n",
       "</table>\n",
       "<p>5 rows × 30 columns</p>\n",
       "</div>"
      ],
      "text/plain": [
       "  serial_number  failure  capacity_bytes  smart_1_normalized  \\\n",
       "0      S3000FZ5        0  56011018420224              1622.0   \n",
       "1      S3000QAP        0  56011018420224              1615.0   \n",
       "2      S3002HH0        0  56011018420224              1624.0   \n",
       "3      S30034E6        0  56011018420224              1624.0   \n",
       "4      S3003GAB        0  56011018420224              1604.0   \n",
       "\n",
       "   smart_3_normalized  smart_4_raw  smart_5_raw  smart_7_normalized  \\\n",
       "0              1330.0         70.0          0.0              1176.0   \n",
       "1              1274.0        112.0          0.0              1176.0   \n",
       "2              1288.0        154.0          0.0              1148.0   \n",
       "3              1330.0         70.0          0.0              1192.0   \n",
       "4              1288.0        118.0          0.0              1171.0   \n",
       "\n",
       "    smart_7_raw  smart_9_normalized  ...  smart_193_normalized  smart_193_raw  \\\n",
       "0  4.216763e+09              1304.0  ...                1372.0        60914.0   \n",
       "1  4.558123e+09              1302.0  ...                1204.0       401044.0   \n",
       "2  2.588138e+09              1358.0  ...                1302.0       207018.0   \n",
       "3  5.543299e+09              1316.0  ...                1386.0        51296.0   \n",
       "4  3.301111e+09              1344.0  ...                1316.0       185027.0   \n",
       "\n",
       "   smart_194_normalized  smart_194_raw  smart_197_raw  smart_198_raw  \\\n",
       "0                 415.0          415.0            0.0            0.0   \n",
       "1                 392.0          392.0            0.0            0.0   \n",
       "2                 345.0          345.0            0.0            0.0   \n",
       "3                 318.0          318.0            0.0            0.0   \n",
       "4                 287.0          287.0            0.0            0.0   \n",
       "\n",
       "   smart_199_raw  smart_240_raw  smart_241_raw  smart_242_raw  \n",
       "0            0.0   1.894106e+15   1.651018e+11   2.639205e+11  \n",
       "1            0.0   8.732000e+04   2.346867e+11   1.705040e+12  \n",
       "2            0.0   4.458400e+04   1.399439e+11   5.466639e+11  \n",
       "3            0.0   2.353376e+15   1.693085e+11   3.589584e+11  \n",
       "4            0.0   5.756200e+04   1.594639e+11   7.925754e+11  \n",
       "\n",
       "[5 rows x 30 columns]"
      ]
     },
     "execution_count": 18,
     "metadata": {},
     "output_type": "execute_result"
    }
   ],
   "source": [
    "df.head()"
   ]
  },
  {
   "cell_type": "code",
   "execution_count": 19,
   "metadata": {},
   "outputs": [
    {
     "data": {
      "text/plain": [
       "serial_number           32738\n",
       "failure                 32738\n",
       "capacity_bytes          32738\n",
       "smart_1_normalized      32738\n",
       "smart_3_normalized      32738\n",
       "smart_4_raw             32738\n",
       "smart_5_raw             32738\n",
       "smart_7_normalized      32738\n",
       "smart_7_raw             32738\n",
       "smart_9_normalized      32738\n",
       "smart_9_raw             32738\n",
       "smart_12_raw            32738\n",
       "smart_183_raw           32738\n",
       "smart_184_raw           32738\n",
       "smart_187_normalized    32738\n",
       "smart_187_raw           32738\n",
       "smart_189_normalized    32738\n",
       "smart_189_raw           32738\n",
       "smart_190_raw           32738\n",
       "smart_192_raw           32738\n",
       "smart_193_normalized    32738\n",
       "smart_193_raw           32738\n",
       "smart_194_normalized    32738\n",
       "smart_194_raw           32738\n",
       "smart_197_raw           32738\n",
       "smart_198_raw           32738\n",
       "smart_199_raw           32738\n",
       "smart_240_raw           32738\n",
       "smart_241_raw           32738\n",
       "smart_242_raw           32738\n",
       "dtype: int64"
      ]
     },
     "execution_count": 19,
     "metadata": {},
     "output_type": "execute_result"
    }
   ],
   "source": [
    "df.count()"
   ]
  },
  {
   "cell_type": "code",
   "execution_count": 34,
   "metadata": {},
   "outputs": [],
   "source": [
    "y,X= df['failure'],df.drop(['failure','serial_number','capacity_bytes'],axis=1)\n",
    "\n",
    "x_train, x_test, y_train, y_test = model_selection.train_test_split(X, y, test_size=.2, stratify=y)"
   ]
  },
  {
   "cell_type": "code",
   "execution_count": 22,
   "metadata": {},
   "outputs": [
    {
     "data": {
      "text/plain": [
       "(6548, 27)"
      ]
     },
     "execution_count": 22,
     "metadata": {},
     "output_type": "execute_result"
    }
   ],
   "source": [
    "x_test.shape"
   ]
  },
  {
   "cell_type": "code",
   "execution_count": 23,
   "metadata": {},
   "outputs": [],
   "source": [
    "#scaler = preprocessing.MinMaxScaler()\n",
    "scaler = StandardScaler()\n",
    "\n",
    "x_train = scaler.fit_transform(x_train)\n",
    "\n",
    "x_test = scaler.transform(x_test)"
   ]
  },
  {
   "cell_type": "code",
   "execution_count": 24,
   "metadata": {},
   "outputs": [
    {
     "name": "stdout",
     "output_type": "stream",
     "text": [
      "26190 6548\n"
     ]
    }
   ],
   "source": [
    "print(len(x_train), len(x_test))"
   ]
  },
  {
   "cell_type": "code",
   "execution_count": 25,
   "metadata": {},
   "outputs": [],
   "source": [
    "#X_train_val, X_test, y_train_val, y_test = train_test_split(X, y, test_size=0.2,random_state=13)\n",
    "\n",
    "#X_train, X_val, y_train, y_val = train_test_split(X_train_val, y_train_val, test_size=.25, random_state=43)"
   ]
  },
  {
   "cell_type": "code",
   "execution_count": 26,
   "metadata": {},
   "outputs": [],
   "source": [
    "def print_metrics(model):\n",
    "  \n",
    "    y_pred = model.predict(x_test)\n",
    "\n",
    "    print(metrics.classification_report(y_test, y_pred))"
   ]
  },
  {
   "cell_type": "code",
   "execution_count": 27,
   "metadata": {},
   "outputs": [
    {
     "name": "stdout",
     "output_type": "stream",
     "text": [
      "              precision    recall  f1-score   support\n",
      "\n",
      "           0       0.98      1.00      0.99      6251\n",
      "           1       0.86      0.47      0.61       297\n",
      "\n",
      "    accuracy                           0.97      6548\n",
      "   macro avg       0.92      0.73      0.80      6548\n",
      "weighted avg       0.97      0.97      0.97      6548\n",
      "\n"
     ]
    }
   ],
   "source": [
    "rf_weights  = {\n",
    "      0: 1,\n",
    "      1: 100}\n",
    "RandomForest_weights = RandomForestClassifier(class_weight=rf_weights,n_estimators=500)\n",
    "RandomForest_weights.fit(x_train, y_train)\n",
    "\n",
    "print_metrics(RandomForest_weights)"
   ]
  },
  {
   "cell_type": "code",
   "execution_count": 35,
   "metadata": {},
   "outputs": [],
   "source": [
    "rf_weights  = {\n",
    "      0: 1,\n",
    "      1: 200}\n",
    "randomforest = RandomForestClassifier(class_weight=rf_weights,n_estimators=400)"
   ]
  },
  {
   "cell_type": "code",
   "execution_count": 36,
   "metadata": {},
   "outputs": [
    {
     "data": {
      "text/plain": [
       "RandomForestClassifier(bootstrap=True, class_weight={0: 1, 1: 200},\n",
       "                       criterion='gini', max_depth=None, max_features='auto',\n",
       "                       max_leaf_nodes=None, min_impurity_decrease=0.0,\n",
       "                       min_impurity_split=None, min_samples_leaf=1,\n",
       "                       min_samples_split=2, min_weight_fraction_leaf=0.0,\n",
       "                       n_estimators=400, n_jobs=None, oob_score=False,\n",
       "                       random_state=None, verbose=0, warm_start=False)"
      ]
     },
     "execution_count": 36,
     "metadata": {},
     "output_type": "execute_result"
    }
   ],
   "source": [
    "randomforest.fit(x_train,y_train)"
   ]
  },
  {
   "cell_type": "code",
   "execution_count": 37,
   "metadata": {},
   "outputs": [
    {
     "data": {
      "text/plain": [
       "1.0"
      ]
     },
     "execution_count": 37,
     "metadata": {},
     "output_type": "execute_result"
    }
   ],
   "source": [
    "randomforest.score(x_train,y_train)"
   ]
  },
  {
   "cell_type": "code",
   "execution_count": 38,
   "metadata": {},
   "outputs": [
    {
     "data": {
      "text/plain": [
       "array([[6224,   27],\n",
       "       [ 163,  134]])"
      ]
     },
     "execution_count": 38,
     "metadata": {},
     "output_type": "execute_result"
    }
   ],
   "source": [
    "rf_conf=confusion_matrix(y_test, randomforest.predict(x_test))\n",
    "rf_conf\n"
   ]
  },
  {
   "cell_type": "code",
   "execution_count": 39,
   "metadata": {},
   "outputs": [
    {
     "name": "stdout",
     "output_type": "stream",
     "text": [
      "RF Incorrectly thinks 0.4319308910574308 % are going to fail\n"
     ]
    }
   ],
   "source": [
    "failperc=100*(rf_conf[0])[1]/((rf_conf[0])[0]+(rf_conf[0])[1])\n",
    "print('RF Incorrectly thinks', failperc,'% are going to fail')"
   ]
  },
  {
   "cell_type": "code",
   "execution_count": 40,
   "metadata": {},
   "outputs": [
    {
     "name": "stdout",
     "output_type": "stream",
     "text": [
      "RF Correctly thinks 45.11784511784512 % are going to fail\n"
     ]
    }
   ],
   "source": [
    "caught= 100*(rf_conf[1])[1]/((rf_conf[1])[0]+(rf_conf[1])[1])\n",
    "print('RF Correctly thinks', caught,'% are going to fail')"
   ]
  },
  {
   "cell_type": "code",
   "execution_count": null,
   "metadata": {},
   "outputs": [],
   "source": []
  }
 ],
 "metadata": {
  "kernelspec": {
   "display_name": "Python 3",
   "language": "python",
   "name": "python3"
  },
  "language_info": {
   "codemirror_mode": {
    "name": "ipython",
    "version": 3
   },
   "file_extension": ".py",
   "mimetype": "text/x-python",
   "name": "python",
   "nbconvert_exporter": "python",
   "pygments_lexer": "ipython3",
   "version": "3.7.3"
  }
 },
 "nbformat": 4,
 "nbformat_minor": 2
}
